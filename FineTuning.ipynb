{
  "cells": [
    {
      "cell_type": "markdown",
      "metadata": {
        "id": "view-in-github",
        "colab_type": "text"
      },
      "source": [
        "<a href=\"https://colab.research.google.com/github/Dana1402/course-work-cnn/blob/main/FineTuning.ipynb\" target=\"_parent\"><img src=\"https://colab.research.google.com/assets/colab-badge.svg\" alt=\"Open In Colab\"/></a>"
      ]
    },
    {
      "cell_type": "markdown",
      "metadata": {
        "id": "W8r7HffygZxZ"
      },
      "source": [
        "### Import"
      ]
    },
    {
      "cell_type": "code",
      "execution_count": null,
      "metadata": {
        "id": "2RWs8SiYe1I8"
      },
      "outputs": [],
      "source": [
        "import tensorflow as tf\n",
        "import pandas as pd\n",
        "from keras.preprocessing.image import ImageDataGenerator\n",
        "import matplotlib.pyplot as plt\n",
        "from tensorflow.keras.preprocessing import image\n",
        "from keras import models\n",
        "from keras import layers\n",
        "import shutil\n",
        "import os\n",
        "import numpy as np\n",
        "from sklearn.model_selection import train_test_split\n",
        "from sklearn.preprocessing import OneHotEncoder\n",
        "from tensorflow.keras.preprocessing import image\n",
        "from tensorflow.keras import regularizers\n",
        "import warnings\n",
        "warnings.simplefilter('ignore')"
      ]
    },
    {
      "cell_type": "code",
      "execution_count": null,
      "metadata": {
        "colab": {
          "base_uri": "https://localhost:8080/"
        },
        "id": "f77x6veiLneO",
        "outputId": "fe9348f0-e697-47c2-bf44-2a1fea3522a9"
      },
      "outputs": [
        {
          "name": "stdout",
          "output_type": "stream",
          "text": [
            "Looking in indexes: https://pypi.org/simple, https://us-python.pkg.dev/colab-wheels/public/simple/\n",
            "Collecting livelossplot\n",
            "  Downloading livelossplot-0.5.5-py3-none-any.whl (22 kB)\n",
            "Requirement already satisfied: matplotlib in /usr/local/lib/python3.9/dist-packages (from livelossplot) (3.7.1)\n",
            "Requirement already satisfied: bokeh in /usr/local/lib/python3.9/dist-packages (from livelossplot) (2.4.3)\n",
            "Requirement already satisfied: PyYAML>=3.10 in /usr/local/lib/python3.9/dist-packages (from bokeh->livelossplot) (6.0)\n",
            "Requirement already satisfied: typing-extensions>=3.10.0 in /usr/local/lib/python3.9/dist-packages (from bokeh->livelossplot) (4.5.0)\n",
            "Requirement already satisfied: packaging>=16.8 in /usr/local/lib/python3.9/dist-packages (from bokeh->livelossplot) (23.0)\n",
            "Requirement already satisfied: tornado>=5.1 in /usr/local/lib/python3.9/dist-packages (from bokeh->livelossplot) (6.2)\n",
            "Requirement already satisfied: numpy>=1.11.3 in /usr/local/lib/python3.9/dist-packages (from bokeh->livelossplot) (1.22.4)\n",
            "Requirement already satisfied: Jinja2>=2.9 in /usr/local/lib/python3.9/dist-packages (from bokeh->livelossplot) (3.1.2)\n",
            "Requirement already satisfied: pillow>=7.1.0 in /usr/local/lib/python3.9/dist-packages (from bokeh->livelossplot) (8.4.0)\n",
            "Requirement already satisfied: cycler>=0.10 in /usr/local/lib/python3.9/dist-packages (from matplotlib->livelossplot) (0.11.0)\n",
            "Requirement already satisfied: fonttools>=4.22.0 in /usr/local/lib/python3.9/dist-packages (from matplotlib->livelossplot) (4.39.2)\n",
            "Requirement already satisfied: python-dateutil>=2.7 in /usr/local/lib/python3.9/dist-packages (from matplotlib->livelossplot) (2.8.2)\n",
            "Requirement already satisfied: contourpy>=1.0.1 in /usr/local/lib/python3.9/dist-packages (from matplotlib->livelossplot) (1.0.7)\n",
            "Requirement already satisfied: pyparsing>=2.3.1 in /usr/local/lib/python3.9/dist-packages (from matplotlib->livelossplot) (3.0.9)\n",
            "Requirement already satisfied: importlib-resources>=3.2.0 in /usr/local/lib/python3.9/dist-packages (from matplotlib->livelossplot) (5.12.0)\n",
            "Requirement already satisfied: kiwisolver>=1.0.1 in /usr/local/lib/python3.9/dist-packages (from matplotlib->livelossplot) (1.4.4)\n",
            "Requirement already satisfied: zipp>=3.1.0 in /usr/local/lib/python3.9/dist-packages (from importlib-resources>=3.2.0->matplotlib->livelossplot) (3.15.0)\n",
            "Requirement already satisfied: MarkupSafe>=2.0 in /usr/local/lib/python3.9/dist-packages (from Jinja2>=2.9->bokeh->livelossplot) (2.1.2)\n",
            "Requirement already satisfied: six>=1.5 in /usr/local/lib/python3.9/dist-packages (from python-dateutil>=2.7->matplotlib->livelossplot) (1.16.0)\n",
            "Installing collected packages: livelossplot\n",
            "Successfully installed livelossplot-0.5.5\n"
          ]
        }
      ],
      "source": [
        "!pip install livelossplot\n",
        "from livelossplot.tf_keras import PlotLossesCallback"
      ]
    },
    {
      "cell_type": "code",
      "execution_count": null,
      "metadata": {
        "colab": {
          "base_uri": "https://localhost:8080/"
        },
        "id": "nsCxQfGyfHcz",
        "outputId": "3eae7e96-4460-458c-b5dd-5cbbc9ea4686"
      },
      "outputs": [
        {
          "name": "stdout",
          "output_type": "stream",
          "text": [
            "Mounted at /content/drive\n"
          ]
        }
      ],
      "source": [
        "from google.colab import drive\n",
        "drive.mount('/content/drive')"
      ]
    },
    {
      "cell_type": "code",
      "execution_count": null,
      "metadata": {
        "id": "5qSbOcbtxL_1"
      },
      "outputs": [],
      "source": [
        "# Чистим папку, если чт-то пошло не так\n",
        "shutil.rmtree('/content/drive/MyDrive/com_vision/train')"
      ]
    },
    {
      "cell_type": "markdown",
      "metadata": {
        "id": "fu2jWyLFe_OR"
      },
      "source": [
        "### Create DataFrame"
      ]
    },
    {
      "cell_type": "code",
      "execution_count": null,
      "metadata": {
        "id": "fUJydwH1f208"
      },
      "outputs": [],
      "source": [
        "# !cd /content/drive/MyDrive/com_vision && unzip -q train.zip"
      ]
    },
    {
      "cell_type": "code",
      "execution_count": null,
      "metadata": {
        "id": "tkOjEYfie6S1"
      },
      "outputs": [],
      "source": [
        "df = pd.read_csv('/content/drive/MyDrive/com_vision/train.csv')"
      ]
    },
    {
      "cell_type": "code",
      "execution_count": null,
      "metadata": {
        "colab": {
          "base_uri": "https://localhost:8080/",
          "height": 206
        },
        "id": "a9TlJV0-fygJ",
        "outputId": "43a78dfa-bccb-44b3-eeeb-a0b8469a1010"
      },
      "outputs": [
        {
          "data": {
            "text/html": [
              "\n",
              "  <div id=\"df-757d36c5-36df-47ce-a703-776dc5c353f8\">\n",
              "    <div class=\"colab-df-container\">\n",
              "      <div>\n",
              "<style scoped>\n",
              "    .dataframe tbody tr th:only-of-type {\n",
              "        vertical-align: middle;\n",
              "    }\n",
              "\n",
              "    .dataframe tbody tr th {\n",
              "        vertical-align: top;\n",
              "    }\n",
              "\n",
              "    .dataframe thead th {\n",
              "        text-align: right;\n",
              "    }\n",
              "</style>\n",
              "<table border=\"1\" class=\"dataframe\">\n",
              "  <thead>\n",
              "    <tr style=\"text-align: right;\">\n",
              "      <th></th>\n",
              "      <th>Unnamed: 0</th>\n",
              "      <th>image_path</th>\n",
              "      <th>emotion</th>\n",
              "    </tr>\n",
              "  </thead>\n",
              "  <tbody>\n",
              "    <tr>\n",
              "      <th>0</th>\n",
              "      <td>0</td>\n",
              "      <td>./train/anger/0.jpg</td>\n",
              "      <td>anger</td>\n",
              "    </tr>\n",
              "    <tr>\n",
              "      <th>1</th>\n",
              "      <td>1</td>\n",
              "      <td>./train/anger/1.jpg</td>\n",
              "      <td>anger</td>\n",
              "    </tr>\n",
              "    <tr>\n",
              "      <th>2</th>\n",
              "      <td>2</td>\n",
              "      <td>./train/anger/10.jpg</td>\n",
              "      <td>anger</td>\n",
              "    </tr>\n",
              "    <tr>\n",
              "      <th>3</th>\n",
              "      <td>3</td>\n",
              "      <td>./train/anger/100.jpg</td>\n",
              "      <td>anger</td>\n",
              "    </tr>\n",
              "    <tr>\n",
              "      <th>4</th>\n",
              "      <td>4</td>\n",
              "      <td>./train/anger/1000.jpg</td>\n",
              "      <td>anger</td>\n",
              "    </tr>\n",
              "  </tbody>\n",
              "</table>\n",
              "</div>\n",
              "      <button class=\"colab-df-convert\" onclick=\"convertToInteractive('df-757d36c5-36df-47ce-a703-776dc5c353f8')\"\n",
              "              title=\"Convert this dataframe to an interactive table.\"\n",
              "              style=\"display:none;\">\n",
              "        \n",
              "  <svg xmlns=\"http://www.w3.org/2000/svg\" height=\"24px\"viewBox=\"0 0 24 24\"\n",
              "       width=\"24px\">\n",
              "    <path d=\"M0 0h24v24H0V0z\" fill=\"none\"/>\n",
              "    <path d=\"M18.56 5.44l.94 2.06.94-2.06 2.06-.94-2.06-.94-.94-2.06-.94 2.06-2.06.94zm-11 1L8.5 8.5l.94-2.06 2.06-.94-2.06-.94L8.5 2.5l-.94 2.06-2.06.94zm10 10l.94 2.06.94-2.06 2.06-.94-2.06-.94-.94-2.06-.94 2.06-2.06.94z\"/><path d=\"M17.41 7.96l-1.37-1.37c-.4-.4-.92-.59-1.43-.59-.52 0-1.04.2-1.43.59L10.3 9.45l-7.72 7.72c-.78.78-.78 2.05 0 2.83L4 21.41c.39.39.9.59 1.41.59.51 0 1.02-.2 1.41-.59l7.78-7.78 2.81-2.81c.8-.78.8-2.07 0-2.86zM5.41 20L4 18.59l7.72-7.72 1.47 1.35L5.41 20z\"/>\n",
              "  </svg>\n",
              "      </button>\n",
              "      \n",
              "  <style>\n",
              "    .colab-df-container {\n",
              "      display:flex;\n",
              "      flex-wrap:wrap;\n",
              "      gap: 12px;\n",
              "    }\n",
              "\n",
              "    .colab-df-convert {\n",
              "      background-color: #E8F0FE;\n",
              "      border: none;\n",
              "      border-radius: 50%;\n",
              "      cursor: pointer;\n",
              "      display: none;\n",
              "      fill: #1967D2;\n",
              "      height: 32px;\n",
              "      padding: 0 0 0 0;\n",
              "      width: 32px;\n",
              "    }\n",
              "\n",
              "    .colab-df-convert:hover {\n",
              "      background-color: #E2EBFA;\n",
              "      box-shadow: 0px 1px 2px rgba(60, 64, 67, 0.3), 0px 1px 3px 1px rgba(60, 64, 67, 0.15);\n",
              "      fill: #174EA6;\n",
              "    }\n",
              "\n",
              "    [theme=dark] .colab-df-convert {\n",
              "      background-color: #3B4455;\n",
              "      fill: #D2E3FC;\n",
              "    }\n",
              "\n",
              "    [theme=dark] .colab-df-convert:hover {\n",
              "      background-color: #434B5C;\n",
              "      box-shadow: 0px 1px 3px 1px rgba(0, 0, 0, 0.15);\n",
              "      filter: drop-shadow(0px 1px 2px rgba(0, 0, 0, 0.3));\n",
              "      fill: #FFFFFF;\n",
              "    }\n",
              "  </style>\n",
              "\n",
              "      <script>\n",
              "        const buttonEl =\n",
              "          document.querySelector('#df-757d36c5-36df-47ce-a703-776dc5c353f8 button.colab-df-convert');\n",
              "        buttonEl.style.display =\n",
              "          google.colab.kernel.accessAllowed ? 'block' : 'none';\n",
              "\n",
              "        async function convertToInteractive(key) {\n",
              "          const element = document.querySelector('#df-757d36c5-36df-47ce-a703-776dc5c353f8');\n",
              "          const dataTable =\n",
              "            await google.colab.kernel.invokeFunction('convertToInteractive',\n",
              "                                                     [key], {});\n",
              "          if (!dataTable) return;\n",
              "\n",
              "          const docLinkHtml = 'Like what you see? Visit the ' +\n",
              "            '<a target=\"_blank\" href=https://colab.research.google.com/notebooks/data_table.ipynb>data table notebook</a>'\n",
              "            + ' to learn more about interactive tables.';\n",
              "          element.innerHTML = '';\n",
              "          dataTable['output_type'] = 'display_data';\n",
              "          await google.colab.output.renderOutput(dataTable, element);\n",
              "          const docLink = document.createElement('div');\n",
              "          docLink.innerHTML = docLinkHtml;\n",
              "          element.appendChild(docLink);\n",
              "        }\n",
              "      </script>\n",
              "    </div>\n",
              "  </div>\n",
              "  "
            ],
            "text/plain": [
              "   Unnamed: 0              image_path emotion\n",
              "0           0     ./train/anger/0.jpg   anger\n",
              "1           1     ./train/anger/1.jpg   anger\n",
              "2           2    ./train/anger/10.jpg   anger\n",
              "3           3   ./train/anger/100.jpg   anger\n",
              "4           4  ./train/anger/1000.jpg   anger"
            ]
          },
          "execution_count": 6,
          "metadata": {},
          "output_type": "execute_result"
        }
      ],
      "source": [
        "df.head()"
      ]
    },
    {
      "cell_type": "code",
      "execution_count": null,
      "metadata": {
        "id": "dTyxnyVzK_lI"
      },
      "outputs": [],
      "source": [
        "class_weight = {}\n",
        "for i, j  in enumerate(set(df.emotion)):\n",
        "    count_of_samples = df[df['emotion'] == j].agg('count')[0]\n",
        "    total = df.shape[0]\n",
        "    weight = (1 / count_of_samples) * (total / 9.0)\n",
        "\n",
        "    class_weight[i] = weight"
      ]
    },
    {
      "cell_type": "code",
      "execution_count": null,
      "metadata": {
        "colab": {
          "base_uri": "https://localhost:8080/"
        },
        "id": "VbUsqdWDK_lY",
        "outputId": "69381fc4-9795-4c1a-815a-317a9280a10d"
      },
      "outputs": [
        {
          "data": {
            "text/plain": [
              "{0: 1.7624933967247756,\n",
              " 1: 1.8024851431658562,\n",
              " 2: 0.933781136300028,\n",
              " 3: 1.1024319323288396,\n",
              " 4: 0.8794348674152566,\n",
              " 5: 0.825024727992087,\n",
              " 6: 0.8183468236448369,\n",
              " 7: 0.7918921484857117,\n",
              " 8: 0.938192452617963}"
            ]
          },
          "execution_count": 8,
          "metadata": {},
          "output_type": "execute_result"
        }
      ],
      "source": [
        "class_weight"
      ]
    },
    {
      "cell_type": "code",
      "execution_count": null,
      "metadata": {
        "id": "W1gDgGr30j_l"
      },
      "outputs": [],
      "source": [
        "# преобразуем имена файлов(убрать все кроме имени)\n",
        "for i in range(len(df)):  \n",
        "    df['image_path'][i] = df['image_path'][i].replace(\"./train/\", \"\")"
      ]
    },
    {
      "cell_type": "code",
      "execution_count": null,
      "metadata": {
        "colab": {
          "base_uri": "https://localhost:8080/",
          "height": 206
        },
        "id": "6r5AokFnZ-D0",
        "outputId": "9a6caa31-cc24-412b-ead2-17ead688a416"
      },
      "outputs": [
        {
          "data": {
            "text/html": [
              "\n",
              "  <div id=\"df-d69f4c9b-22cf-44b4-8420-569054cdac89\">\n",
              "    <div class=\"colab-df-container\">\n",
              "      <div>\n",
              "<style scoped>\n",
              "    .dataframe tbody tr th:only-of-type {\n",
              "        vertical-align: middle;\n",
              "    }\n",
              "\n",
              "    .dataframe tbody tr th {\n",
              "        vertical-align: top;\n",
              "    }\n",
              "\n",
              "    .dataframe thead th {\n",
              "        text-align: right;\n",
              "    }\n",
              "</style>\n",
              "<table border=\"1\" class=\"dataframe\">\n",
              "  <thead>\n",
              "    <tr style=\"text-align: right;\">\n",
              "      <th></th>\n",
              "      <th>Unnamed: 0</th>\n",
              "      <th>image_path</th>\n",
              "      <th>emotion</th>\n",
              "    </tr>\n",
              "  </thead>\n",
              "  <tbody>\n",
              "    <tr>\n",
              "      <th>0</th>\n",
              "      <td>0</td>\n",
              "      <td>anger/0.jpg</td>\n",
              "      <td>anger</td>\n",
              "    </tr>\n",
              "    <tr>\n",
              "      <th>1</th>\n",
              "      <td>1</td>\n",
              "      <td>anger/1.jpg</td>\n",
              "      <td>anger</td>\n",
              "    </tr>\n",
              "    <tr>\n",
              "      <th>2</th>\n",
              "      <td>2</td>\n",
              "      <td>anger/10.jpg</td>\n",
              "      <td>anger</td>\n",
              "    </tr>\n",
              "    <tr>\n",
              "      <th>3</th>\n",
              "      <td>3</td>\n",
              "      <td>anger/100.jpg</td>\n",
              "      <td>anger</td>\n",
              "    </tr>\n",
              "    <tr>\n",
              "      <th>4</th>\n",
              "      <td>4</td>\n",
              "      <td>anger/1000.jpg</td>\n",
              "      <td>anger</td>\n",
              "    </tr>\n",
              "  </tbody>\n",
              "</table>\n",
              "</div>\n",
              "      <button class=\"colab-df-convert\" onclick=\"convertToInteractive('df-d69f4c9b-22cf-44b4-8420-569054cdac89')\"\n",
              "              title=\"Convert this dataframe to an interactive table.\"\n",
              "              style=\"display:none;\">\n",
              "        \n",
              "  <svg xmlns=\"http://www.w3.org/2000/svg\" height=\"24px\"viewBox=\"0 0 24 24\"\n",
              "       width=\"24px\">\n",
              "    <path d=\"M0 0h24v24H0V0z\" fill=\"none\"/>\n",
              "    <path d=\"M18.56 5.44l.94 2.06.94-2.06 2.06-.94-2.06-.94-.94-2.06-.94 2.06-2.06.94zm-11 1L8.5 8.5l.94-2.06 2.06-.94-2.06-.94L8.5 2.5l-.94 2.06-2.06.94zm10 10l.94 2.06.94-2.06 2.06-.94-2.06-.94-.94-2.06-.94 2.06-2.06.94z\"/><path d=\"M17.41 7.96l-1.37-1.37c-.4-.4-.92-.59-1.43-.59-.52 0-1.04.2-1.43.59L10.3 9.45l-7.72 7.72c-.78.78-.78 2.05 0 2.83L4 21.41c.39.39.9.59 1.41.59.51 0 1.02-.2 1.41-.59l7.78-7.78 2.81-2.81c.8-.78.8-2.07 0-2.86zM5.41 20L4 18.59l7.72-7.72 1.47 1.35L5.41 20z\"/>\n",
              "  </svg>\n",
              "      </button>\n",
              "      \n",
              "  <style>\n",
              "    .colab-df-container {\n",
              "      display:flex;\n",
              "      flex-wrap:wrap;\n",
              "      gap: 12px;\n",
              "    }\n",
              "\n",
              "    .colab-df-convert {\n",
              "      background-color: #E8F0FE;\n",
              "      border: none;\n",
              "      border-radius: 50%;\n",
              "      cursor: pointer;\n",
              "      display: none;\n",
              "      fill: #1967D2;\n",
              "      height: 32px;\n",
              "      padding: 0 0 0 0;\n",
              "      width: 32px;\n",
              "    }\n",
              "\n",
              "    .colab-df-convert:hover {\n",
              "      background-color: #E2EBFA;\n",
              "      box-shadow: 0px 1px 2px rgba(60, 64, 67, 0.3), 0px 1px 3px 1px rgba(60, 64, 67, 0.15);\n",
              "      fill: #174EA6;\n",
              "    }\n",
              "\n",
              "    [theme=dark] .colab-df-convert {\n",
              "      background-color: #3B4455;\n",
              "      fill: #D2E3FC;\n",
              "    }\n",
              "\n",
              "    [theme=dark] .colab-df-convert:hover {\n",
              "      background-color: #434B5C;\n",
              "      box-shadow: 0px 1px 3px 1px rgba(0, 0, 0, 0.15);\n",
              "      filter: drop-shadow(0px 1px 2px rgba(0, 0, 0, 0.3));\n",
              "      fill: #FFFFFF;\n",
              "    }\n",
              "  </style>\n",
              "\n",
              "      <script>\n",
              "        const buttonEl =\n",
              "          document.querySelector('#df-d69f4c9b-22cf-44b4-8420-569054cdac89 button.colab-df-convert');\n",
              "        buttonEl.style.display =\n",
              "          google.colab.kernel.accessAllowed ? 'block' : 'none';\n",
              "\n",
              "        async function convertToInteractive(key) {\n",
              "          const element = document.querySelector('#df-d69f4c9b-22cf-44b4-8420-569054cdac89');\n",
              "          const dataTable =\n",
              "            await google.colab.kernel.invokeFunction('convertToInteractive',\n",
              "                                                     [key], {});\n",
              "          if (!dataTable) return;\n",
              "\n",
              "          const docLinkHtml = 'Like what you see? Visit the ' +\n",
              "            '<a target=\"_blank\" href=https://colab.research.google.com/notebooks/data_table.ipynb>data table notebook</a>'\n",
              "            + ' to learn more about interactive tables.';\n",
              "          element.innerHTML = '';\n",
              "          dataTable['output_type'] = 'display_data';\n",
              "          await google.colab.output.renderOutput(dataTable, element);\n",
              "          const docLink = document.createElement('div');\n",
              "          docLink.innerHTML = docLinkHtml;\n",
              "          element.appendChild(docLink);\n",
              "        }\n",
              "      </script>\n",
              "    </div>\n",
              "  </div>\n",
              "  "
            ],
            "text/plain": [
              "   Unnamed: 0      image_path emotion\n",
              "0           0     anger/0.jpg   anger\n",
              "1           1     anger/1.jpg   anger\n",
              "2           2    anger/10.jpg   anger\n",
              "3           3   anger/100.jpg   anger\n",
              "4           4  anger/1000.jpg   anger"
            ]
          },
          "execution_count": 10,
          "metadata": {},
          "output_type": "execute_result"
        }
      ],
      "source": [
        "df.head()"
      ]
    },
    {
      "cell_type": "code",
      "execution_count": null,
      "metadata": {
        "id": "tr41MmGnN1Cf"
      },
      "outputs": [],
      "source": [
        "train_x, test_x, train_y, test_y = train_test_split(df.iloc[:,0:2], df['emotion'], test_size=0.2, stratify=df['emotion'])"
      ]
    },
    {
      "cell_type": "code",
      "execution_count": null,
      "metadata": {
        "id": "15kL67lxN7Bn"
      },
      "outputs": [],
      "source": [
        "train = pd.concat([train_x, train_y], axis = 1).reset_index(drop=True)\n",
        "test = pd.concat([test_x, test_y], axis = 1).reset_index(drop=True)"
      ]
    },
    {
      "cell_type": "code",
      "execution_count": null,
      "metadata": {
        "id": "e46sha0YN9Uf"
      },
      "outputs": [],
      "source": [
        "# Делаем one-hot encoding\n",
        "ohe = OneHotEncoder(sparse = False)\n",
        "new_one_features = ohe.fit_transform(train.emotion.values.reshape(-1,1))\n",
        "tmp = pd.DataFrame(new_one_features, columns = ['emotion=' + str(i) for i in range(new_one_features.shape[1])])\n",
        "df3_train = pd.concat([train, tmp], axis = 1)"
      ]
    },
    {
      "cell_type": "code",
      "execution_count": null,
      "metadata": {
        "id": "uQf1BlwMOBAC"
      },
      "outputs": [],
      "source": [
        "# Делаем one-hot encoding\n",
        "ohe = OneHotEncoder(sparse = False)\n",
        "new_one_features = ohe.fit_transform(test.emotion.values.reshape(-1,1))\n",
        "tmp = pd.DataFrame(new_one_features, columns = ['emotion=' + str(i) for i in range(new_one_features.shape[1])])\n",
        "df3_test = pd.concat([test, tmp], axis = 1)"
      ]
    },
    {
      "cell_type": "code",
      "execution_count": null,
      "metadata": {
        "id": "e6Zo1KFoK_lg"
      },
      "outputs": [],
      "source": [
        "def load_image(path):\n",
        "    \"\"\"\n",
        "    function to download an image from a directory\n",
        "    \"\"\"  \n",
        "    img = image.load_img(path)\n",
        "    img = (np.array(img).astype(float))/255 #convert to array and scale 0..255 to 0..1\n",
        "    img = np.expand_dims(img, axis = 0)\n",
        "    tf.image.adjust_contrast(img, contrast_factor)\n",
        "#     preprocessed_input = tf.keras.applications.vgg16.preprocess_input(img*255.)\n",
        "    return img"
      ]
    },
    {
      "cell_type": "code",
      "execution_count": null,
      "metadata": {
        "id": "VFRMO9yrhNZo"
      },
      "outputs": [],
      "source": [
        "from tensorflow.keras.preprocessing import image\n",
        "img = load_image('C:/Users/Admin/Documents/курсовая_нейронка_эмоции/train/train/anger/1000.jpg')\n",
        "# plt.imshow(np.squeeze(img, axis = 0))\n",
        "preprocessed_input = tf.keras.applications.vgg16.preprocess_input(img*255.)\n",
        "plt.imshow(np.squeeze(preprocessed_input, axis = 0))"
      ]
    },
    {
      "cell_type": "markdown",
      "metadata": {
        "id": "WGIRMIeEhrrc"
      },
      "source": [
        "### DataGenerator"
      ]
    },
    {
      "cell_type": "code",
      "execution_count": null,
      "metadata": {
        "id": "Ww0ggze0K_lp"
      },
      "outputs": [],
      "source": [
        "def preprocessing_image(image):\n",
        "    img = (np.array(img).astype(float))/255 #convert to array and scale 0..255 to 0..1\n",
        "    img = np.expand_dims(img, axis = 0)\n",
        "    preprocessed_input = tf.keras.applications.vgg16.preprocess_input(img*255.)\n",
        "    return img"
      ]
    },
    {
      "cell_type": "code",
      "execution_count": null,
      "metadata": {
        "id": "9KaJ5bRTNqBM"
      },
      "outputs": [],
      "source": [
        "datagen = ImageDataGenerator(preprocessing_image)"
      ]
    },
    {
      "cell_type": "code",
      "execution_count": null,
      "metadata": {
        "id": "S3FzQvKrhrDe"
      },
      "outputs": [],
      "source": [
        "datagen = ImageDataGenerator(rescale=1./255,\n",
        "                            rotation_range=20,\n",
        "                            width_shift_range=0.1,\n",
        "                            height_shift_range=0.1,\n",
        "                            shear_range=0.01,\n",
        "                            zoom_range=0.1,\n",
        "# #                             horizontal_flip=True,\n",
        "                            fill_mode='nearest',\n",
        "                            preprocessing_function=load_image\n",
        "                             )"
      ]
    },
    {
      "cell_type": "code",
      "execution_count": null,
      "metadata": {
        "colab": {
          "base_uri": "https://localhost:8080/"
        },
        "id": "1jtYYBZMlT2p",
        "outputId": "c4823330-c6cc-40e0-a300-f4b9a5463a5f"
      },
      "outputs": [
        {
          "name": "stdout",
          "output_type": "stream",
          "text": [
            "Found 40036 validated image filenames belonging to 9 classes.\n",
            "Found 10010 validated image filenames belonging to 9 classes.\n"
          ]
        }
      ],
      "source": [
        "train_generator_1 = datagen.flow_from_dataframe(df3_train,\n",
        "                                                directory='train/train/',\n",
        "                                                target_size=(128,128),\n",
        "                                                x_col=\"image_path\",\n",
        "                                                y_col=\"emotion\",\n",
        "                                                class_mode='categorical',\n",
        "                                                shuffle=True,\n",
        "                                                batch_size=64)\n",
        "\n",
        "test_generator_1 = datagen.flow_from_dataframe(df3_test,\n",
        "                                                directory='train/train/',\n",
        "                                                target_size=(128,128),\n",
        "                                                x_col=\"image_path\",\n",
        "                                                y_col=\"emotion\",\n",
        "                                                class_mode='categorical',\n",
        "                                                shuffle=True,\n",
        "                                                batch_size=64)"
      ]
    },
    {
      "cell_type": "markdown",
      "metadata": {
        "id": "QaLV0ISyhi2u"
      },
      "source": [
        "### VGGFace"
      ]
    },
    {
      "cell_type": "markdown",
      "metadata": {
        "id": "qGPOeK-FQM-O"
      },
      "source": [
        "Используем предобученную VGGFace, так как уже обучена на лицах людей."
      ]
    },
    {
      "cell_type": "code",
      "execution_count": null,
      "metadata": {
        "id": "LdNTupt4K_l_",
        "outputId": "343cfc17-e0a9-439b-cf63-745c6f6d9e60"
      },
      "outputs": [
        {
          "name": "stdout",
          "output_type": "stream",
          "text": [
            "Collecting git+https://github.com/rcmalli/keras-vggface.git\n",
            "  Cloning https://github.com/rcmalli/keras-vggface.git to c:\\users\\admin\\appdata\\local\\temp\\pip-req-build-svufwquj\n",
            "Requirement already satisfied: numpy>=1.9.1 in e:\\anaconda\\lib\\site-packages (from keras-vggface==0.6) (1.20.1)\n",
            "Requirement already satisfied: scipy>=0.14 in e:\\anaconda\\lib\\site-packages (from keras-vggface==0.6) (1.6.2)\n",
            "Requirement already satisfied: h5py in e:\\anaconda\\lib\\site-packages (from keras-vggface==0.6) (2.10.0)\n",
            "Requirement already satisfied: pillow in e:\\anaconda\\lib\\site-packages (from keras-vggface==0.6) (8.2.0)\n",
            "Requirement already satisfied: keras in e:\\anaconda\\lib\\site-packages (from keras-vggface==0.6) (2.8.0)\n",
            "Requirement already satisfied: six>=1.9.0 in e:\\anaconda\\lib\\site-packages (from keras-vggface==0.6) (1.16.0)\n",
            "Requirement already satisfied: pyyaml in e:\\anaconda\\lib\\site-packages (from keras-vggface==0.6) (5.4.1)\n"
          ]
        },
        {
          "name": "stderr",
          "output_type": "stream",
          "text": [
            "  Running command git clone -q https://github.com/rcmalli/keras-vggface.git 'C:\\Users\\Admin\\AppData\\Local\\Temp\\pip-req-build-svufwquj'\n"
          ]
        },
        {
          "name": "stdout",
          "output_type": "stream",
          "text": [
            "Requirement already satisfied: keras_vggface in e:\\anaconda\\lib\\site-packages (0.6)\n",
            "Requirement already satisfied: pyyaml in e:\\anaconda\\lib\\site-packages (from keras_vggface) (5.4.1)\n",
            "Requirement already satisfied: pillow in e:\\anaconda\\lib\\site-packages (from keras_vggface) (8.2.0)\n",
            "Requirement already satisfied: keras in e:\\anaconda\\lib\\site-packages (from keras_vggface) (2.8.0)\n",
            "Requirement already satisfied: six>=1.9.0 in e:\\anaconda\\lib\\site-packages (from keras_vggface) (1.16.0)\n",
            "Requirement already satisfied: scipy>=0.14 in e:\\anaconda\\lib\\site-packages (from keras_vggface) (1.6.2)\n",
            "Requirement already satisfied: numpy>=1.9.1 in e:\\anaconda\\lib\\site-packages (from keras_vggface) (1.20.1)\n",
            "Requirement already satisfied: h5py in e:\\anaconda\\lib\\site-packages (from keras_vggface) (2.10.0)\n"
          ]
        }
      ],
      "source": [
        "# Most Recent One (Suggested)\n",
        "!pip install git+https://github.com/rcmalli/keras-vggface.git\n",
        "# Release Version\n",
        "!pip install keras_vggface"
      ]
    },
    {
      "cell_type": "code",
      "execution_count": null,
      "metadata": {
        "id": "4C6Es9CpBeam"
      },
      "outputs": [],
      "source": [
        "# !pip install git+https://github.com/rcmalli/keras-vggface.git\n",
        "# !pip install keras_applications --no-deps\n",
        "filename = \"E:/anaconda/Lib/site-packages/keras_vggface/models.py\"\n",
        "text = open(filename).read()\n",
        "open(filename, \"w+\").write(text.replace('keras.engine.topology', 'tensorflow.keras.utils'))\n",
        "import tensorflow as tf\n",
        "\n",
        "from keras_vggface.vggface import VGGFace\n",
        "from keras_vggface import utils"
      ]
    },
    {
      "cell_type": "code",
      "execution_count": null,
      "metadata": {
        "id": "Oe2IKv7vRFhI"
      },
      "outputs": [],
      "source": [
        "base_model = VGGFace(weights='vggface', include_top=False, input_shape=(128,128,3), pooling='max')"
      ]
    },
    {
      "cell_type": "code",
      "execution_count": null,
      "metadata": {
        "colab": {
          "base_uri": "https://localhost:8080/"
        },
        "id": "e1lE_xdjSAwi",
        "outputId": "8310f358-fcbf-4745-f795-f584959575b6"
      },
      "outputs": [
        {
          "name": "stdout",
          "output_type": "stream",
          "text": [
            "Model: \"vggface_vgg16\"\n",
            "_________________________________________________________________\n",
            " Layer (type)                Output Shape              Param #   \n",
            "=================================================================\n",
            " input_4 (InputLayer)        [(None, 128, 128, 3)]     0         \n",
            "                                                                 \n",
            " conv1_1 (Conv2D)            (None, 128, 128, 64)      1792      \n",
            "                                                                 \n",
            " conv1_2 (Conv2D)            (None, 128, 128, 64)      36928     \n",
            "                                                                 \n",
            " pool1 (MaxPooling2D)        (None, 64, 64, 64)        0         \n",
            "                                                                 \n",
            " conv2_1 (Conv2D)            (None, 64, 64, 128)       73856     \n",
            "                                                                 \n",
            " conv2_2 (Conv2D)            (None, 64, 64, 128)       147584    \n",
            "                                                                 \n",
            " pool2 (MaxPooling2D)        (None, 32, 32, 128)       0         \n",
            "                                                                 \n",
            " conv3_1 (Conv2D)            (None, 32, 32, 256)       295168    \n",
            "                                                                 \n",
            " conv3_2 (Conv2D)            (None, 32, 32, 256)       590080    \n",
            "                                                                 \n",
            " conv3_3 (Conv2D)            (None, 32, 32, 256)       590080    \n",
            "                                                                 \n",
            " pool3 (MaxPooling2D)        (None, 16, 16, 256)       0         \n",
            "                                                                 \n",
            " conv4_1 (Conv2D)            (None, 16, 16, 512)       1180160   \n",
            "                                                                 \n",
            " conv4_2 (Conv2D)            (None, 16, 16, 512)       2359808   \n",
            "                                                                 \n",
            " conv4_3 (Conv2D)            (None, 16, 16, 512)       2359808   \n",
            "                                                                 \n",
            " pool4 (MaxPooling2D)        (None, 8, 8, 512)         0         \n",
            "                                                                 \n",
            " conv5_1 (Conv2D)            (None, 8, 8, 512)         2359808   \n",
            "                                                                 \n",
            " conv5_2 (Conv2D)            (None, 8, 8, 512)         2359808   \n",
            "                                                                 \n",
            " conv5_3 (Conv2D)            (None, 8, 8, 512)         2359808   \n",
            "                                                                 \n",
            " pool5 (MaxPooling2D)        (None, 4, 4, 512)         0         \n",
            "                                                                 \n",
            " global_max_pooling2d_3 (Glo  (None, 512)              0         \n",
            " balMaxPooling2D)                                                \n",
            "                                                                 \n",
            "=================================================================\n",
            "Total params: 14,714,688\n",
            "Trainable params: 14,714,688\n",
            "Non-trainable params: 0\n",
            "_________________________________________________________________\n"
          ]
        }
      ],
      "source": [
        "base_model.summary()"
      ]
    },
    {
      "cell_type": "code",
      "execution_count": null,
      "metadata": {
        "id": "ofb1lEIjRejA"
      },
      "outputs": [],
      "source": [
        "base_model.trainable = False\n",
        "\n",
        "fine_tune_at = 17\n",
        "# # # все слои до -- заморозим\n",
        "for layer in base_model.layers[:16]:\n",
        "    layer.trainable =  False\n",
        "\n",
        "model = models.Sequential()\n",
        "model.add(base_model)\n",
        "model.add(layers.Flatten())\n",
        "model.add(layers.Dense(512,   kernel_regularizer=regularizers.L1L2(l1=1e-4, l2=1e-4),\n",
        "                                 bias_regularizer=regularizers.L2(1e-4),\n",
        "                                 activity_regularizer=regularizers.L2(1e-4),\n",
        "                       activation='relu'))\n",
        "model.add(layers.Dense(9, activation='softmax'))"
      ]
    },
    {
      "cell_type": "code",
      "execution_count": null,
      "metadata": {
        "colab": {
          "base_uri": "https://localhost:8080/"
        },
        "id": "BmII1s9Yazk1",
        "outputId": "3f9c4876-166f-499f-921a-bc5c33781929"
      },
      "outputs": [
        {
          "name": "stdout",
          "output_type": "stream",
          "text": [
            "Model: \"sequential_3\"\n",
            "_________________________________________________________________\n",
            " Layer (type)                Output Shape              Param #   \n",
            "=================================================================\n",
            " vggface_vgg16 (Functional)  (None, 512)               14714688  \n",
            "                                                                 \n",
            " flatten_3 (Flatten)         (None, 512)               0         \n",
            "                                                                 \n",
            " dense_6 (Dense)             (None, 512)               262656    \n",
            "                                                                 \n",
            " dense_7 (Dense)             (None, 9)                 4617      \n",
            "                                                                 \n",
            "=================================================================\n",
            "Total params: 14,981,961\n",
            "Trainable params: 267,273\n",
            "Non-trainable params: 14,714,688\n",
            "_________________________________________________________________\n"
          ]
        }
      ],
      "source": [
        "model.summary()"
      ]
    },
    {
      "cell_type": "code",
      "execution_count": null,
      "metadata": {
        "id": "JCzqYx8yscdw"
      },
      "outputs": [],
      "source": [
        "model.compile(optimizer = 'Adam',\n",
        "              loss = tf.keras.losses.CategoricalCrossentropy(1e-4),\n",
        "              metrics = ['categorical_accuracy'])"
      ]
    },
    {
      "cell_type": "code",
      "execution_count": null,
      "metadata": {
        "id": "HrMgf2phK_mK"
      },
      "outputs": [],
      "source": [
        "model_checkpoint_callback = tf.keras.callbacks.ModelCheckpoint(\n",
        "               filepath = 'model_main3_vggface.h5', \n",
        "               monitor = 'val_categorical_accuracy', \n",
        "               save_best_only = True,)"
      ]
    },
    {
      "cell_type": "code",
      "source": [
        "early_stopping_callback = tf.keras.callbacks.EarlyStopping(\n",
        "                monitor=\"val_categorical_accuracy\",\n",
        "                min_delta=0.01,\n",
        "                patience=5,\n",
        "                verbose=1,\n",
        "                mode=\"max\",\n",
        "                baseline=None,\n",
        "                restore_best_weights=False,\n",
        "                start_from_epoch=0,\n",
        ")"
      ],
      "metadata": {
        "id": "CIAx2WhZNdWO"
      },
      "execution_count": null,
      "outputs": []
    },
    {
      "cell_type": "code",
      "execution_count": null,
      "metadata": {
        "colab": {
          "base_uri": "https://localhost:8080/",
          "height": 382
        },
        "id": "g6XIaqRbshjC",
        "outputId": "5585c24d-6b37-4a3b-ce97-f482fc4a6444"
      },
      "outputs": [
        {
          "data": {
            "image/png": "[encoded data removed]",
            "text/plain": [
              "<Figure size 864x576 with 2 Axes>"
            ]
          },
          "metadata": {},
          "output_type": "display_data"
        },
        {
          "name": "stdout",
          "output_type": "stream",
          "text": [
            "categorical_accuracy\n",
            "\ttraining         \t (min:    0.141, max:    0.354, cur:    0.328)\n",
            "\tvalidation       \t (min:    0.188, max:    0.345, cur:    0.305)\n",
            "Loss\n",
            "\ttraining         \t (min:    2.016, max:    3.218, cur:    2.097)\n",
            "\tvalidation       \t (min:    1.962, max:    3.038, cur:    2.052)\n",
            "\b\b\b\b\b\b\b\b\b\b\b\b\b\b\b\b\b\b\b\b\b\b\b\b\b\b\b\b\b\b\b\b\b\b\b\b\b\b\b\b\b\b\b\b\b\b\b\b\b\b\b\b\b\b\b\b\b\b\b\b\b\b\b\b\b\b\b\b\b\b\b\b\b\b\b\b\b\b\b\b\b\b\b\b\b\b\b\b\b\b\b\b\b\b\r",
            "30/30 [==============================] - 405s 14s/step - loss: 2.0972 - categorical_accuracy: 0.3281 - val_loss: 2.0524 - val_categorical_accuracy: 0.3047\n"
          ]
        }
      ],
      "source": [
        "history = model.fit( train_generator_1,\n",
        "                      steps_per_epoch=30,\n",
        "                      epochs = 30,\n",
        "                      validation_data = test_generator_1,\n",
        "                      validation_steps = 30,\n",
        "                      callbacks = [PlotLossesCallback(), \n",
        "                                   model_checkpoint_callback,\n",
        "                                   early_stopping_callback],\n",
        "                      class_weight=class_weight)"
      ]
    },
    {
      "cell_type": "markdown",
      "metadata": {
        "id": "tIcbw5TXOeDU"
      },
      "source": [
        "### VGG16"
      ]
    },
    {
      "cell_type": "code",
      "execution_count": null,
      "metadata": {
        "id": "XIZFICiQK_mS"
      },
      "outputs": [],
      "source": [
        "from tensorflow.keras.applications import VGG16"
      ]
    },
    {
      "cell_type": "code",
      "execution_count": null,
      "metadata": {
        "colab": {
          "base_uri": "https://localhost:8080/"
        },
        "id": "-XcDrV6DJpMF",
        "outputId": "37bf6f5a-b6dc-400d-b982-f6ff075eb1cd"
      },
      "outputs": [
        {
          "name": "stdout",
          "output_type": "stream",
          "text": [
            "Model: \"vgg16\"\n",
            "_________________________________________________________________\n",
            " Layer (type)                Output Shape              Param #   \n",
            "=================================================================\n",
            " input_2 (InputLayer)        [(None, 224, 224, 3)]     0         \n",
            "                                                                 \n",
            " block1_conv1 (Conv2D)       (None, 224, 224, 64)      1792      \n",
            "                                                                 \n",
            " block1_conv2 (Conv2D)       (None, 224, 224, 64)      36928     \n",
            "                                                                 \n",
            " block1_pool (MaxPooling2D)  (None, 112, 112, 64)      0         \n",
            "                                                                 \n",
            " block2_conv1 (Conv2D)       (None, 112, 112, 128)     73856     \n",
            "                                                                 \n",
            " block2_conv2 (Conv2D)       (None, 112, 112, 128)     147584    \n",
            "                                                                 \n",
            " block2_pool (MaxPooling2D)  (None, 56, 56, 128)       0         \n",
            "                                                                 \n",
            " block3_conv1 (Conv2D)       (None, 56, 56, 256)       295168    \n",
            "                                                                 \n",
            " block3_conv2 (Conv2D)       (None, 56, 56, 256)       590080    \n",
            "                                                                 \n",
            " block3_conv3 (Conv2D)       (None, 56, 56, 256)       590080    \n",
            "                                                                 \n",
            " block3_pool (MaxPooling2D)  (None, 28, 28, 256)       0         \n",
            "                                                                 \n",
            " block4_conv1 (Conv2D)       (None, 28, 28, 512)       1180160   \n",
            "                                                                 \n",
            " block4_conv2 (Conv2D)       (None, 28, 28, 512)       2359808   \n",
            "                                                                 \n",
            " block4_conv3 (Conv2D)       (None, 28, 28, 512)       2359808   \n",
            "                                                                 \n",
            " block4_pool (MaxPooling2D)  (None, 14, 14, 512)       0         \n",
            "                                                                 \n",
            " block5_conv1 (Conv2D)       (None, 14, 14, 512)       2359808   \n",
            "                                                                 \n",
            " block5_conv2 (Conv2D)       (None, 14, 14, 512)       2359808   \n",
            "                                                                 \n",
            " block5_conv3 (Conv2D)       (None, 14, 14, 512)       2359808   \n",
            "                                                                 \n",
            " block5_pool (MaxPooling2D)  (None, 7, 7, 512)         0         \n",
            "                                                                 \n",
            "=================================================================\n",
            "Total params: 14,714,688\n",
            "Trainable params: 14,714,688\n",
            "Non-trainable params: 0\n",
            "_________________________________________________________________\n"
          ]
        }
      ],
      "source": [
        "#Load the VGG model\n",
        "base_model = VGG16(weights='imagenet', include_top=False, input_shape=(128, 128, 3))\n",
        "base_model.summary()"
      ]
    },
    {
      "cell_type": "code",
      "execution_count": null,
      "metadata": {
        "id": "CHEsdHJcK_mU"
      },
      "outputs": [],
      "source": [
        "def preprocessing_image_vgg16(image):\n",
        "    img = (np.array(img).astype(float))/255 #convert to array and scale 0..255 to 0..1\n",
        "    img = np.expand_dims(img, axis = 0)\n",
        "    preprocessed_input = tf.keras.applications.vgg16.preprocess_input(img*255.)\n",
        "    return img"
      ]
    },
    {
      "cell_type": "code",
      "execution_count": null,
      "metadata": {
        "id": "Oru8Bs9jK_mV"
      },
      "outputs": [],
      "source": [
        "datagen = ImageDataGenerator(preprocessing_image_vgg16,\n",
        "#                              rotation_range=20,\n",
        "#                             width_shift_range=0.1,\n",
        "#                             height_shift_range=0.1,\n",
        "#                             shear_range=0.01,\n",
        "#                             zoom_range=0.1,\n",
        "# #                             horizontal_flip=True,\n",
        "#                             fill_mode='nearest'\n",
        "                            )"
      ]
    },
    {
      "cell_type": "code",
      "execution_count": null,
      "metadata": {
        "id": "wwKzIucPK_mW"
      },
      "outputs": [],
      "source": [
        "train_generator_1 = datagen.flow_from_dataframe(df3_train,\n",
        "                                                directory='train/train/',\n",
        "                                                target_size=(128,128),\n",
        "                                                x_col=\"image_path\",\n",
        "                                                y_col=\"emotion\",\n",
        "                                                class_mode='categorical',\n",
        "                                                shuffle=True,\n",
        "                                                batch_size=64)\n",
        "\n",
        "test_generator_1 = datagen.flow_from_dataframe(df3_test,\n",
        "                                                directory='train/train/',\n",
        "                                                target_size=(128,128),\n",
        "                                                x_col=\"image_path\",\n",
        "                                                y_col=\"emotion\",\n",
        "                                                class_mode='categorical',\n",
        "                                                shuffle=True,\n",
        "                                                batch_size=64)"
      ]
    },
    {
      "cell_type": "code",
      "execution_count": null,
      "metadata": {
        "colab": {
          "base_uri": "https://localhost:8080/"
        },
        "id": "4SfpPFopJu3r",
        "outputId": "908f862a-370b-4bbe-c6aa-340e98d7565e"
      },
      "outputs": [
        {
          "name": "stdout",
          "output_type": "stream",
          "text": [
            "<keras.engine.input_layer.InputLayer object at 0x000002310EB86F70> False\n",
            "<keras.layers.convolutional.Conv2D object at 0x000002310CE20EE0> False\n",
            "<keras.layers.convolutional.Conv2D object at 0x000002310C402D30> False\n",
            "<keras.layers.pooling.MaxPooling2D object at 0x000002310CE20A90> False\n",
            "<keras.layers.convolutional.Conv2D object at 0x000002310F601310> False\n",
            "<keras.layers.convolutional.Conv2D object at 0x000002310F601850> False\n",
            "<keras.layers.pooling.MaxPooling2D object at 0x000002310F5FABB0> False\n",
            "<keras.layers.convolutional.Conv2D object at 0x000002310F60C910> False\n",
            "<keras.layers.convolutional.Conv2D object at 0x000002310F615820> False\n",
            "<keras.layers.convolutional.Conv2D object at 0x000002310F615940> False\n",
            "<keras.layers.pooling.MaxPooling2D object at 0x000002310F615BB0> False\n",
            "<keras.layers.convolutional.Conv2D object at 0x000002310F61C1C0> False\n",
            "<keras.layers.convolutional.Conv2D object at 0x000002310F623D60> False\n",
            "<keras.layers.convolutional.Conv2D object at 0x000002310F61A160> False\n",
            "<keras.layers.pooling.MaxPooling2D object at 0x000002310F623A30> False\n",
            "<keras.layers.convolutional.Conv2D object at 0x000002310F634520> False\n",
            "<keras.layers.convolutional.Conv2D object at 0x000002310F634A60> True\n",
            "<keras.layers.convolutional.Conv2D object at 0x000002310F61A7C0> True\n",
            "<keras.layers.pooling.MaxPooling2D object at 0x000002310F634F40> True\n"
          ]
        }
      ],
      "source": [
        "for layer in base_model.layers[:-4]:\n",
        "    layer.trainable = False\n",
        " # Check the trainable status of the individual layers\n",
        "for layer in base_model.layers:\n",
        "    print(layer, layer.trainable)"
      ]
    },
    {
      "cell_type": "code",
      "execution_count": null,
      "metadata": {
        "id": "Af2z5pkkJz--"
      },
      "outputs": [],
      "source": [
        "# Create the model\n",
        "model = models.Sequential()\n",
        " \n",
        "# Add the vgg convolutional base model\n",
        "model.add(base_model)\n",
        " \n",
        "# Add new layers\n",
        "#     model.add(tf.keras.layers.Conv2D(512, (3,3), activation = 'relu'))\n",
        "#     model.add(tf.keras.layers.Conv2D(512, (3,3), activation = 'relu'))\n",
        "#     model.add(tf.keras.layers.MaxPooling2D(2,2))\n",
        "model.add(tf.keras.layers.Flatten())\n",
        "model.add(tf.keras.layers.Dense(512, \n",
        "                                 kernel_regularizer=regularizers.L1L2(l1=1e-4, l2=1e-4),\n",
        "                                 bias_regularizer=regularizers.L2(1e-4),\n",
        "                                 activity_regularizer=regularizers.L2(1e-4),\n",
        "                                activation='relu'))\n",
        "model.add(tf.keras.layers.Dropout(0.2))\n",
        "model.add(tf.keras.layers.Dense(9, activation='softmax'))"
      ]
    },
    {
      "cell_type": "code",
      "execution_count": null,
      "metadata": {
        "colab": {
          "base_uri": "https://localhost:8080/"
        },
        "id": "1G2AjpQ7KHLp",
        "outputId": "f4f11e13-f662-4054-90eb-724b9995796a"
      },
      "outputs": [
        {
          "name": "stdout",
          "output_type": "stream",
          "text": [
            "Model: \"sequential_1\"\n",
            "_________________________________________________________________\n",
            " Layer (type)                Output Shape              Param #   \n",
            "=================================================================\n",
            " vgg16 (Functional)          (None, 7, 7, 512)         14714688  \n",
            "                                                                 \n",
            " flatten_1 (Flatten)         (None, 25088)             0         \n",
            "                                                                 \n",
            " dense_2 (Dense)             (None, 256)               6422784   \n",
            "                                                                 \n",
            " dropout_1 (Dropout)         (None, 256)               0         \n",
            "                                                                 \n",
            " dense_3 (Dense)             (None, 9)                 2313      \n",
            "                                                                 \n",
            "=================================================================\n",
            "Total params: 21,139,785\n",
            "Trainable params: 11,144,713\n",
            "Non-trainable params: 9,995,072\n",
            "_________________________________________________________________\n"
          ]
        }
      ],
      "source": [
        "model.summary()"
      ]
    },
    {
      "cell_type": "code",
      "execution_count": null,
      "metadata": {
        "id": "smPJD61OKLzr"
      },
      "outputs": [],
      "source": [
        "model.compile(optimizer= tf.keras.optimizers.Adam(learning_rate=1e-4),\n",
        "              loss = tf.keras.losses.CategoricalCrossentropy(),\n",
        "              metrics = ['categorical_accuracy'])"
      ]
    },
    {
      "cell_type": "code",
      "execution_count": null,
      "metadata": {
        "id": "c9afuhirK_mj"
      },
      "outputs": [],
      "source": [
        "model_checkpoint_callback = tf.keras.callbacks.ModelCheckpoint(\n",
        "               filepath = 'model_main3_imagenet_augm.h5', \n",
        "               monitor = 'val_categorical_accuracy', \n",
        "               save_best_only = True,)"
      ]
    },
    {
      "cell_type": "code",
      "source": [
        "early_stopping_callback = tf.keras.callbacks.EarlyStopping(\n",
        "                monitor=\"val_categorical_accuracy\",\n",
        "                min_delta=0.01,\n",
        "                patience=5,\n",
        "                verbose=1,\n",
        "                mode=\"max\",\n",
        "                baseline=None,\n",
        "                restore_best_weights=False,\n",
        "                start_from_epoch=0,\n",
        ")"
      ],
      "metadata": {
        "id": "KzSPpmnJNtWR"
      },
      "execution_count": null,
      "outputs": []
    },
    {
      "cell_type": "code",
      "execution_count": null,
      "metadata": {
        "id": "b6c1Q4n1K_mw",
        "outputId": "aaec06a8-1992-4d2a-ec47-b1948c8c53d8"
      },
      "outputs": [
        {
          "data": {
            "image/png": "[encoded data removed]",
            "text/plain": [
              "<Figure size 864x576 with 2 Axes>"
            ]
          },
          "metadata": {},
          "output_type": "display_data"
        },
        {
          "name": "stdout",
          "output_type": "stream",
          "text": [
            "categorical_accuracy\n",
            "\ttraining         \t (min:    0.146, max:    0.412, cur:    0.412)\n",
            "\tvalidation       \t (min:    0.171, max:    0.395, cur:    0.380)\n",
            "Loss\n",
            "\ttraining         \t (min:    2.613, max:    7.149, cur:    2.613)\n",
            "\tvalidation       \t (min:    2.485, max:    6.576, cur:    2.485)\n",
            "20/20 [==============================] - 1648s 84s/step - loss: 2.6132 - categorical_accuracy: 0.4125 - val_loss: 2.4851 - val_categorical_accuracy: 0.3805\n",
            "Epoch 23/40\n",
            "13/20 [==================>...........] - ETA: 5:07 - loss: 2.6010 - categorical_accuracy: 0.3996"
          ]
        }
      ],
      "source": [
        "history = model.fit( train_generator_1,\n",
        "                      steps_per_epoch=80,\n",
        "                      epochs = 40,\n",
        "                      validation_data = test_generator_1,\n",
        "                      validation_steps = 80,\n",
        "                      callbacks = [PlotLossesCallback(), \n",
        "                                   model_checkpoint_callback,\n",
        "                                   early_stopping_callback],\n",
        "                      class_weight=class_weight)"
      ]
    },
    {
      "cell_type": "code",
      "execution_count": null,
      "metadata": {
        "id": "QNiCl53jK_mw"
      },
      "outputs": [],
      "source": [
        "model = tf.keras.models.load_model('model_main3_imagenet_augm.h5')"
      ]
    },
    {
      "cell_type": "code",
      "execution_count": null,
      "metadata": {
        "id": "C96YQo72K_mx",
        "outputId": "fdfa17ad-6ee8-480e-aff8-78b6ac1e5655"
      },
      "outputs": [
        {
          "data": {
            "image/png": "[encoded data removed]",
            "text/plain": [
              "<Figure size 864x576 with 2 Axes>"
            ]
          },
          "metadata": {},
          "output_type": "display_data"
        },
        {
          "name": "stdout",
          "output_type": "stream",
          "text": [
            "categorical_accuracy\n",
            "\ttraining         \t (min:    0.382, max:    0.444, cur:    0.444)\n",
            "\tvalidation       \t (min:    0.377, max:    0.433, cur:    0.420)\n",
            "Loss\n",
            "\ttraining         \t (min:    2.132, max:    2.619, cur:    2.132)\n",
            "\tvalidation       \t (min:    2.102, max:    2.517, cur:    2.133)\n",
            "\b\b\b\b\b\b\b\b\b\b\b\b\b\b\b\b\b\b\b\b\b\b\b\b\b\b\b\b\b\b\b\b\b\b\b\b\b\b\b\b\b\b\b\b\b\b\b\b\b\b\b\b\b\b\b\b\b\b\b\b\b\b\b\b\b\b\b\b\b\b\b\b\b\b\b\b\b\b\b\b\b\b\b\b\b\b\b\b\b\b\b\b\b\b\r",
            "20/20 [==============================] - 1852s 94s/step - loss: 2.1315 - categorical_accuracy: 0.4437 - val_loss: 2.1327 - val_categorical_accuracy: 0.4203\n"
          ]
        }
      ],
      "source": [
        "history = model.fit( train_generator_1,\n",
        "                      steps_per_epoch=20,\n",
        "                      epochs = 16,\n",
        "                      validation_data = test_generator_1,\n",
        "                      validation_steps = 20,\n",
        "                      callbacks = [PlotLossesCallback(), \n",
        "                                   model_checkpoint_callback],\n",
        "                      class_weight=class_weight)"
      ]
    },
    {
      "cell_type": "markdown",
      "metadata": {
        "id": "GxzMvNSgK_mx"
      },
      "source": [
        "### VGG19"
      ]
    },
    {
      "cell_type": "code",
      "execution_count": null,
      "metadata": {
        "id": "1-vljBfoK_my"
      },
      "outputs": [],
      "source": [
        "from tensorflow.keras.applications import VGG19"
      ]
    },
    {
      "cell_type": "code",
      "execution_count": null,
      "metadata": {
        "colab": {
          "base_uri": "https://localhost:8080/"
        },
        "id": "iPfwr0wlK_m_",
        "outputId": "d44cdddc-2780-45bb-d62a-adf7103a93d4"
      },
      "outputs": [
        {
          "name": "stdout",
          "output_type": "stream",
          "text": [
            "Downloading data from https://storage.googleapis.com/tensorflow/keras-applications/vgg19/vgg19_weights_tf_dim_ordering_tf_kernels_notop.h5\n",
            "80134624/80134624 [==============================] - 0s 0us/step\n",
            "Model: \"vgg19\"\n",
            "_________________________________________________________________\n",
            " Layer (type)                Output Shape              Param #   \n",
            "=================================================================\n",
            " input_1 (InputLayer)        [(None, 128, 128, 3)]     0         \n",
            "                                                                 \n",
            " block1_conv1 (Conv2D)       (None, 128, 128, 64)      1792      \n",
            "                                                                 \n",
            " block1_conv2 (Conv2D)       (None, 128, 128, 64)      36928     \n",
            "                                                                 \n",
            " block1_pool (MaxPooling2D)  (None, 64, 64, 64)        0         \n",
            "                                                                 \n",
            " block2_conv1 (Conv2D)       (None, 64, 64, 128)       73856     \n",
            "                                                                 \n",
            " block2_conv2 (Conv2D)       (None, 64, 64, 128)       147584    \n",
            "                                                                 \n",
            " block2_pool (MaxPooling2D)  (None, 32, 32, 128)       0         \n",
            "                                                                 \n",
            " block3_conv1 (Conv2D)       (None, 32, 32, 256)       295168    \n",
            "                                                                 \n",
            " block3_conv2 (Conv2D)       (None, 32, 32, 256)       590080    \n",
            "                                                                 \n",
            " block3_conv3 (Conv2D)       (None, 32, 32, 256)       590080    \n",
            "                                                                 \n",
            " block3_conv4 (Conv2D)       (None, 32, 32, 256)       590080    \n",
            "                                                                 \n",
            " block3_pool (MaxPooling2D)  (None, 16, 16, 256)       0         \n",
            "                                                                 \n",
            " block4_conv1 (Conv2D)       (None, 16, 16, 512)       1180160   \n",
            "                                                                 \n",
            " block4_conv2 (Conv2D)       (None, 16, 16, 512)       2359808   \n",
            "                                                                 \n",
            " block4_conv3 (Conv2D)       (None, 16, 16, 512)       2359808   \n",
            "                                                                 \n",
            " block4_conv4 (Conv2D)       (None, 16, 16, 512)       2359808   \n",
            "                                                                 \n",
            " block4_pool (MaxPooling2D)  (None, 8, 8, 512)         0         \n",
            "                                                                 \n",
            " block5_conv1 (Conv2D)       (None, 8, 8, 512)         2359808   \n",
            "                                                                 \n",
            " block5_conv2 (Conv2D)       (None, 8, 8, 512)         2359808   \n",
            "                                                                 \n",
            " block5_conv3 (Conv2D)       (None, 8, 8, 512)         2359808   \n",
            "                                                                 \n",
            " block5_conv4 (Conv2D)       (None, 8, 8, 512)         2359808   \n",
            "                                                                 \n",
            " block5_pool (MaxPooling2D)  (None, 4, 4, 512)         0         \n",
            "                                                                 \n",
            "=================================================================\n",
            "Total params: 20,024,384\n",
            "Trainable params: 20,024,384\n",
            "Non-trainable params: 0\n",
            "_________________________________________________________________\n"
          ]
        }
      ],
      "source": [
        "#Load the VGG model\n",
        "base_model = VGG19(weights='imagenet', include_top=False, input_shape=(128, 128, 3))\n",
        "base_model.summary()"
      ]
    },
    {
      "cell_type": "code",
      "execution_count": null,
      "metadata": {
        "id": "BdnERBEHK_nA"
      },
      "outputs": [],
      "source": [
        "def preprocessing_image_vgg19(image):\n",
        "    img = (np.array(image).astype(float))/255 #convert to array and scale 0..255 to 0..1\n",
        "    img = np.expand_dims(img, axis = 0)\n",
        "    preprocessed_input = tf.keras.applications.vgg19.preprocess_input(img*255.)\n",
        "    return img"
      ]
    },
    {
      "cell_type": "code",
      "execution_count": null,
      "metadata": {
        "id": "2yEILFVSK_nA"
      },
      "outputs": [],
      "source": [
        "datagen = ImageDataGenerator(preprocessing_function=preprocessing_image_vgg19,\n",
        "                            rotation_range=20,\n",
        "                            width_shift_range=0.1,\n",
        "                            height_shift_range=0.1,\n",
        "                            shear_range=0.01,\n",
        "                            zoom_range=0.1,\n",
        "# #                           horizontal_flip=True,\n",
        "                            fill_mode='nearest'\n",
        "                            )"
      ]
    },
    {
      "cell_type": "code",
      "execution_count": null,
      "metadata": {
        "colab": {
          "base_uri": "https://localhost:8080/"
        },
        "id": "l40ZqPUUK_nB",
        "outputId": "c8e6bb5b-dfb4-4db3-c7ee-3e845a4b3d31"
      },
      "outputs": [
        {
          "name": "stdout",
          "output_type": "stream",
          "text": [
            "Found 40036 validated image filenames belonging to 9 classes.\n",
            "Found 10010 validated image filenames belonging to 9 classes.\n"
          ]
        }
      ],
      "source": [
        "train_generator_1 = datagen.flow_from_dataframe(df3_train,\n",
        "                                                directory='/content/train/',\n",
        "                                                target_size=(128,128),\n",
        "                                                x_col=\"image_path\",\n",
        "                                                y_col=\"emotion\",\n",
        "                                                class_mode='categorical',\n",
        "                                                shuffle=True,\n",
        "                                                batch_size=64)\n",
        "\n",
        "test_generator_1 = datagen.flow_from_dataframe(df3_test,\n",
        "                                                directory='/content/train/',\n",
        "                                                target_size=(128,128),\n",
        "                                                x_col=\"image_path\",\n",
        "                                                y_col=\"emotion\",\n",
        "                                                class_mode='categorical',\n",
        "                                                shuffle=True,\n",
        "                                                batch_size=64)"
      ]
    },
    {
      "cell_type": "code",
      "execution_count": null,
      "metadata": {
        "colab": {
          "base_uri": "https://localhost:8080/"
        },
        "id": "jAnEJzFRK_nB",
        "outputId": "0ce76f61-afc2-4558-dfc3-fa57f9145ddd"
      },
      "outputs": [
        {
          "name": "stdout",
          "output_type": "stream",
          "text": [
            "<keras.engine.input_layer.InputLayer object at 0x7faab33b28e0> False\n",
            "<keras.layers.convolutional.conv2d.Conv2D object at 0x7faab377e760> False\n",
            "<keras.layers.convolutional.conv2d.Conv2D object at 0x7faab377ef10> False\n",
            "<keras.layers.pooling.max_pooling2d.MaxPooling2D object at 0x7faab43020d0> False\n",
            "<keras.layers.convolutional.conv2d.Conv2D object at 0x7faab41f5460> False\n",
            "<keras.layers.convolutional.conv2d.Conv2D object at 0x7faab42915e0> False\n",
            "<keras.layers.pooling.max_pooling2d.MaxPooling2D object at 0x7faab42951f0> False\n",
            "<keras.layers.convolutional.conv2d.Conv2D object at 0x7faab4291220> False\n",
            "<keras.layers.convolutional.conv2d.Conv2D object at 0x7faab42996d0> False\n",
            "<keras.layers.convolutional.conv2d.Conv2D object at 0x7faab42995e0> False\n",
            "<keras.layers.convolutional.conv2d.Conv2D object at 0x7faab42a08e0> False\n",
            "<keras.layers.pooling.max_pooling2d.MaxPooling2D object at 0x7faab42a5700> False\n",
            "<keras.layers.convolutional.conv2d.Conv2D object at 0x7faab42a5a00> False\n",
            "<keras.layers.convolutional.conv2d.Conv2D object at 0x7faab42abe20> False\n",
            "<keras.layers.convolutional.conv2d.Conv2D object at 0x7faab42b4610> False\n",
            "<keras.layers.convolutional.conv2d.Conv2D object at 0x7faab42b1550> False\n",
            "<keras.layers.pooling.max_pooling2d.MaxPooling2D object at 0x7faab42bdcd0> False\n",
            "<keras.layers.convolutional.conv2d.Conv2D object at 0x7faab42ab520> False\n",
            "<keras.layers.convolutional.conv2d.Conv2D object at 0x7faab42c3f40> True\n",
            "<keras.layers.convolutional.conv2d.Conv2D object at 0x7faab42c3790> True\n",
            "<keras.layers.convolutional.conv2d.Conv2D object at 0x7faab424aa60> True\n",
            "<keras.layers.pooling.max_pooling2d.MaxPooling2D object at 0x7faab42906d0> True\n"
          ]
        }
      ],
      "source": [
        "for layer in base_model.layers[:-4]:\n",
        "    layer.trainable = False\n",
        " # Check the trainable status of the individual layers\n",
        "for layer in base_model.layers:\n",
        "    print(layer, layer.trainable)"
      ]
    },
    {
      "cell_type": "code",
      "execution_count": null,
      "metadata": {
        "id": "C_B3HVf_K_nG"
      },
      "outputs": [],
      "source": [
        "def get_compiled_model():\n",
        "    # Create the model\n",
        "    model = models.Sequential()\n",
        "\n",
        "    # Add the vgg convolutional base model\n",
        "    model.add(base_model)\n",
        "\n",
        "    # Add new layers\n",
        "    model.add(tf.keras.layers.Flatten())\n",
        "    model.add(tf.keras.layers.Dense(128, \n",
        "                                     kernel_regularizer=regularizers.L1L2(l1=1e-4, l2=1e-4),\n",
        "                                     bias_regularizer=regularizers.L2(1e-4),\n",
        "                                     activity_regularizer=regularizers.L2(1e-4),\n",
        "                                    activation='relu'))\n",
        "#     model.add(tf.keras.layers.Dropout(0.2))\n",
        "    model.add(tf.keras.layers.Dense(9, activation='softmax'))\n",
        "    \n",
        "    model.compile(optimizer= 'adam',\n",
        "              loss = tf.keras.losses.CategoricalCrossentropy(),\n",
        "              metrics = ['categorical_accuracy'])\n",
        "    \n",
        "    return model"
      ]
    },
    {
      "cell_type": "code",
      "execution_count": null,
      "metadata": {
        "id": "YynMvgH5K_nH"
      },
      "outputs": [],
      "source": [
        "model_vgg19=get_compiled_model()"
      ]
    },
    {
      "cell_type": "code",
      "execution_count": null,
      "metadata": {
        "colab": {
          "base_uri": "https://localhost:8080/"
        },
        "id": "tpdJdUHUK_nI",
        "outputId": "ad1f5b72-af47-4b79-d491-9e08139366e0"
      },
      "outputs": [
        {
          "name": "stdout",
          "output_type": "stream",
          "text": [
            "Model: \"sequential_1\"\n",
            "_________________________________________________________________\n",
            " Layer (type)                Output Shape              Param #   \n",
            "=================================================================\n",
            " vgg19 (Functional)          (None, 4, 4, 512)         20024384  \n",
            "                                                                 \n",
            " flatten_1 (Flatten)         (None, 8192)              0         \n",
            "                                                                 \n",
            " dense_2 (Dense)             (None, 128)               1048704   \n",
            "                                                                 \n",
            " dense_3 (Dense)             (None, 9)                 1161      \n",
            "                                                                 \n",
            "=================================================================\n",
            "Total params: 21,074,249\n",
            "Trainable params: 8,129,289\n",
            "Non-trainable params: 12,944,960\n",
            "_________________________________________________________________\n"
          ]
        }
      ],
      "source": [
        "model_vgg19.summary()"
      ]
    },
    {
      "cell_type": "code",
      "execution_count": null,
      "metadata": {
        "id": "JeA7qr9EK_nI"
      },
      "outputs": [],
      "source": [
        "model_checkpoint_callback = tf.keras.callbacks.ModelCheckpoint(\n",
        "               filepath = 'model_vgg19.h5', \n",
        "               monitor = 'val_categorical_accuracy', \n",
        "               save_best_only = True,)"
      ]
    },
    {
      "cell_type": "code",
      "source": [
        "early_stopping_callback = tf.keras.callbacks.EarlyStopping(\n",
        "                monitor=\"val_categorical_accuracy\",\n",
        "                min_delta=0.01,\n",
        "                patience=5,\n",
        "                verbose=1,\n",
        "                mode=\"max\",\n",
        "                baseline=None,\n",
        "                restore_best_weights=False,\n",
        "                start_from_epoch=0,\n",
        ")"
      ],
      "metadata": {
        "id": "stJiu6myN6Hn"
      },
      "execution_count": null,
      "outputs": []
    },
    {
      "cell_type": "code",
      "execution_count": null,
      "metadata": {
        "colab": {
          "background_save": true,
          "base_uri": "https://localhost:8080/",
          "height": 749
        },
        "id": "2VKUV3crK_nR",
        "scrolled": false,
        "outputId": "488de83e-7c73-4e46-8f3d-b742d7d76eb6"
      },
      "outputs": [
        {
          "data": {
            "image/png": "[encoded data removed]",
            "text/plain": [
              "<Figure size 864x576 with 2 Axes>"
            ]
          },
          "metadata": {},
          "output_type": "display_data"
        },
        {
          "name": "stdout",
          "output_type": "stream",
          "text": [
            "categorical_accuracy\n",
            "\ttraining         \t (min:    0.359, max:    0.454, cur:    0.454)\n",
            "\tvalidation       \t (min:    0.345, max:    0.421, cur:    0.361)\n",
            "Loss\n",
            "\ttraining         \t (min:    1.521, max:    1.816, cur:    1.521)\n",
            "\tvalidation       \t (min:    1.656, max:    1.827, cur:    1.827)\n",
            "600/600 [==============================] - 428s 714ms/step - loss: 1.5211 - categorical_accuracy: 0.4544 - val_loss: 1.8271 - val_categorical_accuracy: 0.3609\n",
            "Epoch 21/50\n",
            "469/600 [======================>.......] - ETA: 1:28 - loss: 1.5010 - categorical_accuracy: 0.4615"
          ]
        },
        {
          "name": "stderr",
          "output_type": "stream",
          "text": [
            "\n",
            "KeyboardInterrupt\n",
            "\n"
          ]
        }
      ],
      "source": [
        "%%time\n",
        "history = model_vgg19.fit( train_generator_1,\n",
        "                      steps_per_epoch=600,\n",
        "                      epochs = 50,\n",
        "                      validation_data = test_generator_1,\n",
        "                      validation_steps = 20,\n",
        "                      callbacks = [PlotLossesCallback(), \n",
        "                                   model_checkpoint_callback,\n",
        "                                   early_stopping_callback],\n",
        "                      class_weight=class_weight)"
      ]
    },
    {
      "cell_type": "markdown",
      "metadata": {
        "id": "x-fBnJSEK_nb"
      },
      "source": [
        "### DenseNet201"
      ]
    },
    {
      "cell_type": "code",
      "execution_count": null,
      "metadata": {
        "id": "40ig37dJK_nb"
      },
      "outputs": [],
      "source": [
        "from keras.applications.densenet import DenseNet201"
      ]
    },
    {
      "cell_type": "code",
      "execution_count": null,
      "metadata": {
        "id": "sJgLHy_jK_nc"
      },
      "outputs": [],
      "source": [
        "densenet201 = DenseNet201(weights='imagenet', include_top=False, input_shape=(224,224,3))"
      ]
    },
    {
      "cell_type": "code",
      "execution_count": null,
      "metadata": {
        "id": "aF0wZfhTK_nc"
      },
      "outputs": [],
      "source": [
        "def preprocessing_image_densenet(image):\n",
        "    img = (np.array(image).astype(float))/255 #convert to array and scale 0..255 to 0..1\n",
        "    img = np.expand_dims(img, axis = 0)\n",
        "    preprocessed_input = tf.keras.applications.densenet.preprocess_input(img*255.)\n",
        "    return img"
      ]
    },
    {
      "cell_type": "code",
      "execution_count": null,
      "metadata": {
        "id": "_6lvpr2WK_nd"
      },
      "outputs": [],
      "source": [
        "datagen = ImageDataGenerator(preprocessing_function=preprocessing_image_densenet,\n",
        "                            rotation_range=20,\n",
        "                            width_shift_range=0.1,\n",
        "                            height_shift_range=0.1,\n",
        "                            shear_range=0.01,\n",
        "                            zoom_range=0.1,\n",
        "# #                           horizontal_flip=True,\n",
        "                            fill_mode='nearest'\n",
        "                            )"
      ]
    },
    {
      "cell_type": "code",
      "execution_count": null,
      "metadata": {
        "colab": {
          "base_uri": "https://localhost:8080/"
        },
        "id": "khEoD8O0K_nr",
        "outputId": "9eb7c018-b509-420f-e04c-63c5580a08bf"
      },
      "outputs": [
        {
          "name": "stdout",
          "output_type": "stream",
          "text": [
            "Found 40036 validated image filenames belonging to 9 classes.\n",
            "Found 10010 validated image filenames belonging to 9 classes.\n"
          ]
        }
      ],
      "source": [
        "train_generator_1 = datagen.flow_from_dataframe(df3_train,\n",
        "                                                directory='/content/train/',\n",
        "                                                target_size=(224,224),\n",
        "                                                x_col=\"image_path\",\n",
        "                                                y_col=\"emotion\",\n",
        "                                                class_mode='categorical',\n",
        "                                                shuffle=True,\n",
        "                                                batch_size=64)\n",
        "\n",
        "test_generator_1 = datagen.flow_from_dataframe(df3_test,\n",
        "                                                directory='/content/train/',\n",
        "                                                target_size=(224,224),\n",
        "                                                x_col=\"image_path\",\n",
        "                                                y_col=\"emotion\",\n",
        "                                                class_mode='categorical',\n",
        "                                                shuffle=True,\n",
        "                                                batch_size=64)"
      ]
    },
    {
      "cell_type": "code",
      "execution_count": null,
      "metadata": {
        "colab": {
          "base_uri": "https://localhost:8080/",
          "height": 304
        },
        "id": "aRrAKIQy7L5R",
        "outputId": "102b809d-92bd-4628-b3a8-ea9c1723a56c"
      },
      "outputs": [
        {
          "name": "stdout",
          "output_type": "stream",
          "text": [
            "[1. 0. 0. 0. 0. 0. 0. 0. 0.]\n"
          ]
        },
        {
          "data": {
            "text/plain": [
              "<matplotlib.image.AxesImage at 0x7fe4e8448ca0>"
            ]
          },
          "execution_count": 64,
          "metadata": {},
          "output_type": "execute_result"
        },
        {
          "data": {
            "image/png": "[encoded data removed]",
            "text/plain": [
              "<Figure size 432x288 with 1 Axes>"
            ]
          },
          "metadata": {},
          "output_type": "display_data"
        }
      ],
      "source": [
        "sample = next(train_generator_1)\n",
        "print(sample[1][3])\n",
        "# print(np.split(sample[1][3].astype(\"float32\"), 3, axis=1))\n",
        "plt.imshow(sample[0][3])"
      ]
    },
    {
      "cell_type": "code",
      "execution_count": null,
      "metadata": {
        "colab": {
          "base_uri": "https://localhost:8080/"
        },
        "id": "pBL0ZwvhK_ns",
        "outputId": "93e4e568-518a-44b5-cffc-83826f34dc87",
        "scrolled": true
      },
      "outputs": [
        {
          "name": "stdout",
          "output_type": "stream",
          "text": [
            "<keras.engine.input_layer.InputLayer object at 0x7fe52d8f9a00> False\n",
            "<keras.layers.reshaping.zero_padding2d.ZeroPadding2D object at 0x7fe52d8f9b20> False\n",
            "<keras.layers.convolutional.conv2d.Conv2D object at 0x7fe54bc1ff40> False\n",
            "<keras.layers.normalization.batch_normalization.BatchNormalization object at 0x7fe54c0d7f40> False\n",
            "<keras.layers.core.activation.Activation object at 0x7fe54c1181c0> False\n",
            "<keras.layers.reshaping.zero_padding2d.ZeroPadding2D object at 0x7fe546d3b070> False\n",
            "<keras.layers.pooling.max_pooling2d.MaxPooling2D object at 0x7fe4f045ff40> False\n",
            "<keras.layers.normalization.batch_normalization.BatchNormalization object at 0x7fe54c4e0b20> False\n",
            "<keras.layers.core.activation.Activation object at 0x7fe4f0410460> False\n",
            "<keras.layers.convolutional.conv2d.Conv2D object at 0x7fe4f0410760> False\n",
            "<keras.layers.normalization.batch_normalization.BatchNormalization object at 0x7fe4f046b7f0> False\n",
            "<keras.layers.core.activation.Activation object at 0x7fe4f041d520> False\n",
            "<keras.layers.convolutional.conv2d.Conv2D object at 0x7fe4f041d9a0> False\n",
            "<keras.layers.merging.concatenate.Concatenate object at 0x7fe4f0410790> False\n",
            "<keras.layers.normalization.batch_normalization.BatchNormalization object at 0x7fe4f0405b80> False\n",
            "<keras.layers.core.activation.Activation object at 0x7fe4f04230d0> False\n",
            "<keras.layers.convolutional.conv2d.Conv2D object at 0x7fe4f0423e50> False\n",
            "<keras.layers.normalization.batch_normalization.BatchNormalization object at 0x7fe4f0410b80> False\n",
            "<keras.layers.core.activation.Activation object at 0x7fe4f0433220> False\n",
            "<keras.layers.convolutional.conv2d.Conv2D object at 0x7fe4f0433760> False\n",
            "<keras.layers.merging.concatenate.Concatenate object at 0x7fe4f0423640> False\n",
            "<keras.layers.normalization.batch_normalization.BatchNormalization object at 0x7fe4f043cf40> False\n",
            "<keras.layers.core.activation.Activation object at 0x7fe4f03c4850> False\n",
            "<keras.layers.convolutional.conv2d.Conv2D object at 0x7fe4f03c4b80> False\n",
            "<keras.layers.normalization.batch_normalization.BatchNormalization object at 0x7fe4f0423a90> False\n",
            "<keras.layers.core.activation.Activation object at 0x7fe4f03d20a0> False\n",
            "<keras.layers.convolutional.conv2d.Conv2D object at 0x7fe4f03d2430> False\n",
            "<keras.layers.merging.concatenate.Concatenate object at 0x7fe4f03c44c0> False\n",
            "<keras.layers.normalization.batch_normalization.BatchNormalization object at 0x7fe4f03d8d00> False\n",
            "<keras.layers.core.activation.Activation object at 0x7fe4f043cca0> False\n",
            "<keras.layers.convolutional.conv2d.Conv2D object at 0x7fe4f03cc340> False\n",
            "<keras.layers.normalization.batch_normalization.BatchNormalization object at 0x7fe4f03e1670> False\n",
            "<keras.layers.core.activation.Activation object at 0x7fe4f03f10d0> False\n",
            "<keras.layers.convolutional.conv2d.Conv2D object at 0x7fe4f03f1070> False\n",
            "<keras.layers.merging.concatenate.Concatenate object at 0x7fe4f03ead60> False\n",
            "<keras.layers.normalization.batch_normalization.BatchNormalization object at 0x7fe4f03e1430> False\n",
            "<keras.layers.core.activation.Activation object at 0x7fe4f03ccd60> False\n",
            "<keras.layers.convolutional.conv2d.Conv2D object at 0x7fe4f03cc370> False\n",
            "<keras.layers.normalization.batch_normalization.BatchNormalization object at 0x7fe4f03d8dc0> False\n",
            "<keras.layers.core.activation.Activation object at 0x7fe4f041d340> False\n",
            "<keras.layers.convolutional.conv2d.Conv2D object at 0x7fe4f041d3d0> False\n",
            "<keras.layers.merging.concatenate.Concatenate object at 0x7fe4f0433160> False\n",
            "<keras.layers.normalization.batch_normalization.BatchNormalization object at 0x7fe4f046b850> False\n",
            "<keras.layers.core.activation.Activation object at 0x7fe4f03f5850> False\n",
            "<keras.layers.convolutional.conv2d.Conv2D object at 0x7fe4f046aeb0> False\n",
            "<keras.layers.normalization.batch_normalization.BatchNormalization object at 0x7fe4f046ad00> False\n",
            "<keras.layers.core.activation.Activation object at 0x7fe4f0415370> False\n",
            "<keras.layers.convolutional.conv2d.Conv2D object at 0x7fe4f03f6460> False\n",
            "<keras.layers.merging.concatenate.Concatenate object at 0x7fe4f03f5310> False\n",
            "<keras.layers.normalization.batch_normalization.BatchNormalization object at 0x7fe4f0405760> False\n",
            "<keras.layers.core.activation.Activation object at 0x7fe547378220> False\n",
            "<keras.layers.convolutional.conv2d.Conv2D object at 0x7fe4f03f6b50> False\n",
            "<keras.layers.pooling.average_pooling2d.AveragePooling2D object at 0x7fe4f03f6d90> False\n",
            "<keras.layers.normalization.batch_normalization.BatchNormalization object at 0x7fe4f0399640> False\n",
            "<keras.layers.core.activation.Activation object at 0x7fe4f0399d30> False\n",
            "<keras.layers.convolutional.conv2d.Conv2D object at 0x7fe4f03d9280> False\n",
            "<keras.layers.normalization.batch_normalization.BatchNormalization object at 0x7fe4f037ddc0> False\n",
            "<keras.layers.core.activation.Activation object at 0x7fe4f0386ca0> False\n",
            "<keras.layers.convolutional.conv2d.Conv2D object at 0x7fe4f03a0ca0> False\n",
            "<keras.layers.merging.concatenate.Concatenate object at 0x7fe4f03990a0> False\n",
            "<keras.layers.normalization.batch_normalization.BatchNormalization object at 0x7fe4f03b7bb0> False\n",
            "<keras.layers.core.activation.Activation object at 0x7fe4f03b7970> False\n",
            "<keras.layers.convolutional.conv2d.Conv2D object at 0x7fe4f03aefd0> False\n",
            "<keras.layers.normalization.batch_normalization.BatchNormalization object at 0x7fe4f03aef40> False\n",
            "<keras.layers.core.activation.Activation object at 0x7fe4f03b7c70> False\n",
            "<keras.layers.convolutional.conv2d.Conv2D object at 0x7fe4f033ff70> False\n",
            "<keras.layers.merging.concatenate.Concatenate object at 0x7fe4f03b7280> False\n",
            "<keras.layers.normalization.batch_normalization.BatchNormalization object at 0x7fe4f03aef10> False\n",
            "<keras.layers.core.activation.Activation object at 0x7fe4f0359850> False\n",
            "<keras.layers.convolutional.conv2d.Conv2D object at 0x7fe4f0352d90> False\n",
            "<keras.layers.normalization.batch_normalization.BatchNormalization object at 0x7fe4f033f520> False\n",
            "<keras.layers.core.activation.Activation object at 0x7fe4f036a040> False\n",
            "<keras.layers.convolutional.conv2d.Conv2D object at 0x7fe4f036a280> False\n",
            "<keras.layers.merging.concatenate.Concatenate object at 0x7fe4f03f6af0> False\n",
            "<keras.layers.normalization.batch_normalization.BatchNormalization object at 0x7fe4f0372f70> False\n",
            "<keras.layers.core.activation.Activation object at 0x7fe4f037ab50> False\n",
            "<keras.layers.convolutional.conv2d.Conv2D object at 0x7fe4f037ab20> False\n",
            "<keras.layers.normalization.batch_normalization.BatchNormalization object at 0x7fe4f0363100> False\n",
            "<keras.layers.core.activation.Activation object at 0x7fe4f037a7f0> False\n",
            "<keras.layers.convolutional.conv2d.Conv2D object at 0x7fe4f0352eb0> False\n",
            "<keras.layers.merging.concatenate.Concatenate object at 0x7fe4f036a9d0> False\n",
            "<keras.layers.normalization.batch_normalization.BatchNormalization object at 0x7fe4f03a6bb0> False\n",
            "<keras.layers.core.activation.Activation object at 0x7fe4f0386460> False\n",
            "<keras.layers.convolutional.conv2d.Conv2D object at 0x7fe4f0386820> False\n",
            "<keras.layers.normalization.batch_normalization.BatchNormalization object at 0x7fe4f0386430> False\n",
            "<keras.layers.core.activation.Activation object at 0x7fe4f03f1a00> False\n",
            "<keras.layers.convolutional.conv2d.Conv2D object at 0x7fe4f03f5700> False\n",
            "<keras.layers.merging.concatenate.Concatenate object at 0x7fe4f03c4790> False\n",
            "<keras.layers.normalization.batch_normalization.BatchNormalization object at 0x7fe4f0304df0> False\n",
            "<keras.layers.core.activation.Activation object at 0x7fe4f0304ac0> False\n",
            "<keras.layers.convolutional.conv2d.Conv2D object at 0x7fe4f03a0ee0> False\n",
            "<keras.layers.normalization.batch_normalization.BatchNormalization object at 0x7fe4f03d9c10> False\n",
            "<keras.layers.core.activation.Activation object at 0x7fe4f03039d0> False\n",
            "<keras.layers.convolutional.conv2d.Conv2D object at 0x7fe4f0303250> False\n",
            "<keras.layers.merging.concatenate.Concatenate object at 0x7fe4f0405f40> False\n",
            "<keras.layers.normalization.batch_normalization.BatchNormalization object at 0x7fe4f030fbb0> False\n",
            "<keras.layers.core.activation.Activation object at 0x7fe4f030f520> False\n",
            "<keras.layers.convolutional.conv2d.Conv2D object at 0x7fe4f030f880> False\n",
            "<keras.layers.normalization.batch_normalization.BatchNormalization object at 0x7fe4f0317520> False\n",
            "<keras.layers.core.activation.Activation object at 0x7fe4f0322280> False\n",
            "<keras.layers.convolutional.conv2d.Conv2D object at 0x7fe4f0347310> False\n",
            "<keras.layers.merging.concatenate.Concatenate object at 0x7fe4f030f940> False\n",
            "<keras.layers.normalization.batch_normalization.BatchNormalization object at 0x7fe4f0328790> False\n",
            "<keras.layers.core.activation.Activation object at 0x7fe4f0304160> False\n",
            "<keras.layers.convolutional.conv2d.Conv2D object at 0x7fe4f03307f0> False\n",
            "<keras.layers.normalization.batch_normalization.BatchNormalization object at 0x7fe4f03222b0> False\n",
            "<keras.layers.core.activation.Activation object at 0x7fe4f02c2a90> False\n",
            "<keras.layers.convolutional.conv2d.Conv2D object at 0x7fe4f02c2280> False\n",
            "<keras.layers.merging.concatenate.Concatenate object at 0x7fe4f0330e80> False\n",
            "<keras.layers.normalization.batch_normalization.BatchNormalization object at 0x7fe4f02c7f70> False\n",
            "<keras.layers.core.activation.Activation object at 0x7fe4f0317fa0> False\n",
            "<keras.layers.convolutional.conv2d.Conv2D object at 0x7fe4f02d0a00> False\n",
            "<keras.layers.normalization.batch_normalization.BatchNormalization object at 0x7fe4f02c75e0> False\n",
            "<keras.layers.core.activation.Activation object at 0x7fe4f0317be0> False\n",
            "<keras.layers.convolutional.conv2d.Conv2D object at 0x7fe4f02dab20> False\n",
            "<keras.layers.merging.concatenate.Concatenate object at 0x7fe4f02d0c40> False\n",
            "<keras.layers.normalization.batch_normalization.BatchNormalization object at 0x7fe4f02e7c40> False\n",
            "<keras.layers.core.activation.Activation object at 0x7fe4f02f1220> False\n",
            "<keras.layers.convolutional.conv2d.Conv2D object at 0x7fe4f02f1310> False\n",
            "<keras.layers.normalization.batch_normalization.BatchNormalization object at 0x7fe4f02da310> False\n",
            "<keras.layers.core.activation.Activation object at 0x7fe4f0330730> False\n",
            "<keras.layers.convolutional.conv2d.Conv2D object at 0x7fe4f03381c0> False\n",
            "<keras.layers.merging.concatenate.Concatenate object at 0x7fe4f0328b50> False\n",
            "<keras.layers.normalization.batch_normalization.BatchNormalization object at 0x7fe4f0322a60> False\n",
            "<keras.layers.core.activation.Activation object at 0x7fe4f0347a30> False\n",
            "<keras.layers.convolutional.conv2d.Conv2D object at 0x7fe4f0317a90> False\n",
            "<keras.layers.normalization.batch_normalization.BatchNormalization object at 0x7fe4f03227c0> False\n",
            "<keras.layers.core.activation.Activation object at 0x7fe4f0347d90> False\n",
            "<keras.layers.convolutional.conv2d.Conv2D object at 0x7fe4f03a0910> False\n",
            "<keras.layers.merging.concatenate.Concatenate object at 0x7fe4f030f7f0> False\n",
            "<keras.layers.normalization.batch_normalization.BatchNormalization object at 0x7fe4f0317f10> False\n",
            "<keras.layers.core.activation.Activation object at 0x7fe4f02f90d0> False\n",
            "<keras.layers.convolutional.conv2d.Conv2D object at 0x7fe4f0328220> False\n",
            "<keras.layers.normalization.batch_normalization.BatchNormalization object at 0x7fe4f0304c70> False\n",
            "<keras.layers.core.activation.Activation object at 0x7fe4f02f9ca0> False\n",
            "<keras.layers.convolutional.conv2d.Conv2D object at 0x7fe4f02ec070> False\n",
            "<keras.layers.merging.concatenate.Concatenate object at 0x7fe4f02f9f70> False\n",
            "<keras.layers.normalization.batch_normalization.BatchNormalization object at 0x7fe4f038ac40> False\n",
            "<keras.layers.core.activation.Activation object at 0x7fe4f0280490> False\n",
            "<keras.layers.convolutional.conv2d.Conv2D object at 0x7fe4f03172e0> False\n",
            "<keras.layers.pooling.average_pooling2d.AveragePooling2D object at 0x7fe4f02ec6a0> False\n",
            "<keras.layers.normalization.batch_normalization.BatchNormalization object at 0x7fe4f0280370> False\n",
            "<keras.layers.core.activation.Activation object at 0x7fe4f02f9cd0> False\n",
            "<keras.layers.convolutional.conv2d.Conv2D object at 0x7fe4f0287580> False\n",
            "<keras.layers.normalization.batch_normalization.BatchNormalization object at 0x7fe4f0287d90> False\n",
            "<keras.layers.core.activation.Activation object at 0x7fe4f0292280> False\n",
            "<keras.layers.convolutional.conv2d.Conv2D object at 0x7fe4f0298790> False\n",
            "<keras.layers.merging.concatenate.Concatenate object at 0x7fe4f0292730> False\n",
            "<keras.layers.normalization.batch_normalization.BatchNormalization object at 0x7fe4f02a7820> False\n",
            "<keras.layers.core.activation.Activation object at 0x7fe4f02b1370> False\n",
            "<keras.layers.convolutional.conv2d.Conv2D object at 0x7fe4f02a7c40> False\n",
            "<keras.layers.normalization.batch_normalization.BatchNormalization object at 0x7fe4f02b1550> False\n",
            "<keras.layers.core.activation.Activation object at 0x7fe4f0240880> False\n",
            "<keras.layers.convolutional.conv2d.Conv2D object at 0x7fe4f02b9610> False\n",
            "<keras.layers.merging.concatenate.Concatenate object at 0x7fe4f02b1610> False\n",
            "<keras.layers.normalization.batch_normalization.BatchNormalization object at 0x7fe4f0248f40> False\n",
            "<keras.layers.core.activation.Activation object at 0x7fe4f0250520> False\n",
            "<keras.layers.convolutional.conv2d.Conv2D object at 0x7fe4f0250ac0> False\n",
            "<keras.layers.normalization.batch_normalization.BatchNormalization object at 0x7fe4f0248670> False\n",
            "<keras.layers.core.activation.Activation object at 0x7fe4f0261640> False\n",
            "<keras.layers.convolutional.conv2d.Conv2D object at 0x7fe4f0261b50> False\n",
            "<keras.layers.merging.concatenate.Concatenate object at 0x7fe4f0250b20> False\n",
            "<keras.layers.normalization.batch_normalization.BatchNormalization object at 0x7fe4f0240ee0> False\n",
            "<keras.layers.core.activation.Activation object at 0x7fe4f03178b0> False\n",
            "<keras.layers.convolutional.conv2d.Conv2D object at 0x7fe4f02a0e80> False\n",
            "<keras.layers.normalization.batch_normalization.BatchNormalization object at 0x7fe4f02a0940> False\n",
            "<keras.layers.core.activation.Activation object at 0x7fe4f02ecd60> False\n",
            "<keras.layers.convolutional.conv2d.Conv2D object at 0x7fe4f03ae2e0> False\n",
            "<keras.layers.merging.concatenate.Concatenate object at 0x7fe4f0287070> False\n",
            "<keras.layers.normalization.batch_normalization.BatchNormalization object at 0x7fe4f0386880> False\n",
            "<keras.layers.core.activation.Activation object at 0x7fe4f02e7910> False\n",
            "<keras.layers.convolutional.conv2d.Conv2D object at 0x7fe4f0386a90> False\n",
            "<keras.layers.normalization.batch_normalization.BatchNormalization object at 0x7fe4f0322730> False\n",
            "<keras.layers.core.activation.Activation object at 0x7fe4f029e0d0> False\n",
            "<keras.layers.convolutional.conv2d.Conv2D object at 0x7fe4f029e250> False\n",
            "<keras.layers.merging.concatenate.Concatenate object at 0x7fe4f03c47f0> False\n",
            "<keras.layers.normalization.batch_normalization.BatchNormalization object at 0x7fe4f027eac0> False\n",
            "<keras.layers.core.activation.Activation object at 0x7fe4f027e700> False\n",
            "<keras.layers.convolutional.conv2d.Conv2D object at 0x7fe4f029ec70> False\n",
            "<keras.layers.normalization.batch_normalization.BatchNormalization object at 0x7fe4f02da850> False\n",
            "<keras.layers.core.activation.Activation object at 0x7fe4f029e7c0> False\n",
            "<keras.layers.convolutional.conv2d.Conv2D object at 0x7fe4f0352640> False\n",
            "<keras.layers.merging.concatenate.Concatenate object at 0x7fe4f0373460> False\n",
            "<keras.layers.normalization.batch_normalization.BatchNormalization object at 0x7fe4f01fdf40> False\n",
            "<keras.layers.core.activation.Activation object at 0x7fe4f0206760> False\n",
            "<keras.layers.convolutional.conv2d.Conv2D object at 0x7fe4f01fdaf0> False\n",
            "<keras.layers.normalization.batch_normalization.BatchNormalization object at 0x7fe4f0206550> False\n",
            "<keras.layers.core.activation.Activation object at 0x7fe4f0216880> False\n",
            "<keras.layers.convolutional.conv2d.Conv2D object at 0x7fe4f020eca0> False\n",
            "<keras.layers.merging.concatenate.Concatenate object at 0x7fe4f0206d60> False\n",
            "<keras.layers.normalization.batch_normalization.BatchNormalization object at 0x7fe4f021cf40> False\n",
            "<keras.layers.core.activation.Activation object at 0x7fe4f0227520> False\n",
            "<keras.layers.convolutional.conv2d.Conv2D object at 0x7fe4f0227af0> False\n",
            "<keras.layers.normalization.batch_normalization.BatchNormalization object at 0x7fe4f021c670> False\n",
            "<keras.layers.core.activation.Activation object at 0x7fe4f0227910> False\n",
            "<keras.layers.convolutional.conv2d.Conv2D object at 0x7fe4f0237ac0> False\n",
            "<keras.layers.merging.concatenate.Concatenate object at 0x7fe4f0227ac0> False\n",
            "<keras.layers.normalization.batch_normalization.BatchNormalization object at 0x7fe4f01bfd00> False\n",
            "<keras.layers.core.activation.Activation object at 0x7fe4f01c88b0> False\n",
            "<keras.layers.convolutional.conv2d.Conv2D object at 0x7fe4f01c80d0> False\n",
            "<keras.layers.normalization.batch_normalization.BatchNormalization object at 0x7fe4f01bf730> False\n",
            "<keras.layers.core.activation.Activation object at 0x7fe4f01da490> False\n",
            "<keras.layers.convolutional.conv2d.Conv2D object at 0x7fe4f01da8b0> False\n",
            "<keras.layers.merging.concatenate.Concatenate object at 0x7fe4f01c8910> False\n",
            "<keras.layers.normalization.batch_normalization.BatchNormalization object at 0x7fe4f0237790> False\n",
            "<keras.layers.core.activation.Activation object at 0x7fe4f021cac0> False\n",
            "<keras.layers.convolutional.conv2d.Conv2D object at 0x7fe4f021cbb0> False\n",
            "<keras.layers.normalization.batch_normalization.BatchNormalization object at 0x7fe4f01c8cd0> False\n",
            "<keras.layers.core.activation.Activation object at 0x7fe4f046b460> False\n",
            "<keras.layers.convolutional.conv2d.Conv2D object at 0x7fe4f0206eb0> False\n",
            "<keras.layers.merging.concatenate.Concatenate object at 0x7fe4f020ef70> False\n",
            "<keras.layers.normalization.batch_normalization.BatchNormalization object at 0x7fe4f0269c70> False\n",
            "<keras.layers.core.activation.Activation object at 0x7fe4f01bff70> False\n",
            "<keras.layers.convolutional.conv2d.Conv2D object at 0x7fe4f02c26a0> False\n",
            "<keras.layers.normalization.batch_normalization.BatchNormalization object at 0x7fe4f0269a30> False\n",
            "<keras.layers.core.activation.Activation object at 0x7fe4f01e0be0> False\n",
            "<keras.layers.convolutional.conv2d.Conv2D object at 0x7fe4f0287490> False\n",
            "<keras.layers.merging.concatenate.Concatenate object at 0x7fe4f02b9d00> False\n",
            "<keras.layers.normalization.batch_normalization.BatchNormalization object at 0x7fe4f020af40> False\n",
            "<keras.layers.core.activation.Activation object at 0x7fe4f01cb100> False\n",
            "<keras.layers.convolutional.conv2d.Conv2D object at 0x7fe4f020aeb0> False\n",
            "<keras.layers.normalization.batch_normalization.BatchNormalization object at 0x7fe4f020a880> False\n",
            "<keras.layers.core.activation.Activation object at 0x7fe4f038f3a0> False\n",
            "<keras.layers.convolutional.conv2d.Conv2D object at 0x7fe4f01f4160> False\n",
            "<keras.layers.merging.concatenate.Concatenate object at 0x7fe4f02a7dc0> False\n",
            "<keras.layers.normalization.batch_normalization.BatchNormalization object at 0x7fe4f01fcf40> False\n",
            "<keras.layers.core.activation.Activation object at 0x7fe4f01e2340> False\n",
            "<keras.layers.convolutional.conv2d.Conv2D object at 0x7fe4f01e25e0> False\n",
            "<keras.layers.normalization.batch_normalization.BatchNormalization object at 0x7fe4f01fc970> False\n",
            "<keras.layers.core.activation.Activation object at 0x7fe4f018e610> False\n",
            "<keras.layers.convolutional.conv2d.Conv2D object at 0x7fe4f0188ee0> False\n",
            "<keras.layers.merging.concatenate.Concatenate object at 0x7fe4f01f4850> False\n",
            "<keras.layers.normalization.batch_normalization.BatchNormalization object at 0x7fe4f0196d90> False\n",
            "<keras.layers.core.activation.Activation object at 0x7fe4f019f2b0> False\n",
            "<keras.layers.convolutional.conv2d.Conv2D object at 0x7fe4f019f850> False\n",
            "<keras.layers.normalization.batch_normalization.BatchNormalization object at 0x7fe4f01a7a00> False\n",
            "<keras.layers.core.activation.Activation object at 0x7fe4f01af460> False\n",
            "<keras.layers.convolutional.conv2d.Conv2D object at 0x7fe4f01af880> False\n",
            "<keras.layers.merging.concatenate.Concatenate object at 0x7fe4f019f8e0> False\n",
            "<keras.layers.normalization.batch_normalization.BatchNormalization object at 0x7fe4f01b7b50> False\n",
            "<keras.layers.core.activation.Activation object at 0x7fe4f01410a0> False\n",
            "<keras.layers.convolutional.conv2d.Conv2D object at 0x7fe4f0141df0> False\n",
            "<keras.layers.normalization.batch_normalization.BatchNormalization object at 0x7fe4f019fca0> False\n",
            "<keras.layers.core.activation.Activation object at 0x7fe4f01501f0> False\n",
            "<keras.layers.convolutional.conv2d.Conv2D object at 0x7fe4f0150730> False\n",
            "<keras.layers.merging.concatenate.Concatenate object at 0x7fe4f01505b0> False\n",
            "<keras.layers.normalization.batch_normalization.BatchNormalization object at 0x7fe4f01b71f0> False\n",
            "<keras.layers.core.activation.Activation object at 0x7fe4f018e520> False\n",
            "<keras.layers.convolutional.conv2d.Conv2D object at 0x7fe4f018e9d0> False\n",
            "<keras.layers.normalization.batch_normalization.BatchNormalization object at 0x7fe4f0141a60> False\n",
            "<keras.layers.core.activation.Activation object at 0x7fe4f01ed100> False\n",
            "<keras.layers.convolutional.conv2d.Conv2D object at 0x7fe4f01ed4c0> False\n",
            "<keras.layers.merging.concatenate.Concatenate object at 0x7fe4f0188970> False\n",
            "<keras.layers.normalization.batch_normalization.BatchNormalization object at 0x7fe4f01e09d0> False\n",
            "<keras.layers.core.activation.Activation object at 0x7fe4f026fc40> False\n",
            "<keras.layers.convolutional.conv2d.Conv2D object at 0x7fe4f01af1c0> False\n",
            "<keras.layers.normalization.batch_normalization.BatchNormalization object at 0x7fe4f0196a90> False\n",
            "<keras.layers.core.activation.Activation object at 0x7fe4f01e0d00> False\n",
            "<keras.layers.convolutional.conv2d.Conv2D object at 0x7fe4f0227c70> False\n",
            "<keras.layers.merging.concatenate.Concatenate object at 0x7fe4f0280760> False\n",
            "<keras.layers.normalization.batch_normalization.BatchNormalization object at 0x7fe4f01abf10> False\n",
            "<keras.layers.core.activation.Activation object at 0x7fe4f013d520> False\n",
            "<keras.layers.convolutional.conv2d.Conv2D object at 0x7fe4f013d4c0> False\n",
            "<keras.layers.normalization.batch_normalization.BatchNormalization object at 0x7fe4f01ab9d0> False\n",
            "<keras.layers.core.activation.Activation object at 0x7fe4f0165640> False\n",
            "<keras.layers.convolutional.conv2d.Conv2D object at 0x7fe4f015ff10> False\n",
            "<keras.layers.merging.concatenate.Concatenate object at 0x7fe4f013db20> False\n",
            "<keras.layers.normalization.batch_normalization.BatchNormalization object at 0x7fe4f016cd00> False\n",
            "<keras.layers.core.activation.Activation object at 0x7fe4f01758b0> False\n",
            "<keras.layers.convolutional.conv2d.Conv2D object at 0x7fe4f01750d0> False\n",
            "<keras.layers.normalization.batch_normalization.BatchNormalization object at 0x7fe4f016c730> False\n",
            "<keras.layers.core.activation.Activation object at 0x7fe4f0105490> False\n",
            "<keras.layers.convolutional.conv2d.Conv2D object at 0x7fe4f01058b0> False\n",
            "<keras.layers.merging.concatenate.Concatenate object at 0x7fe4f0175910> False\n",
            "<keras.layers.normalization.batch_normalization.BatchNormalization object at 0x7fe4f010db80> False\n",
            "<keras.layers.core.activation.Activation object at 0x7fe4f01150d0> False\n",
            "<keras.layers.convolutional.conv2d.Conv2D object at 0x7fe4f0115e50> False\n",
            "<keras.layers.normalization.batch_normalization.BatchNormalization object at 0x7fe4f0175cd0> False\n",
            "<keras.layers.core.activation.Activation object at 0x7fe4f0126220> False\n",
            "<keras.layers.convolutional.conv2d.Conv2D object at 0x7fe4f0126760> False\n",
            "<keras.layers.merging.concatenate.Concatenate object at 0x7fe4f0115700> False\n",
            "<keras.layers.normalization.batch_normalization.BatchNormalization object at 0x7fe4f012df40> False\n",
            "<keras.layers.core.activation.Activation object at 0x7fe4f0137850> False\n",
            "<keras.layers.convolutional.conv2d.Conv2D object at 0x7fe4f0137b80> False\n",
            "<keras.layers.normalization.batch_normalization.BatchNormalization object at 0x7fe4f0115a90> False\n",
            "<keras.layers.core.activation.Activation object at 0x7fe4f00c62b0> False\n",
            "<keras.layers.convolutional.conv2d.Conv2D object at 0x7fe4f00c6400> False\n",
            "<keras.layers.merging.concatenate.Concatenate object at 0x7fe4f0137490> False\n",
            "<keras.layers.normalization.batch_normalization.BatchNormalization object at 0x7fe4f012db20> False\n",
            "<keras.layers.core.activation.Activation object at 0x7fe4f0115850> False\n",
            "<keras.layers.convolutional.conv2d.Conv2D object at 0x7fe4f011f640> False\n",
            "<keras.layers.normalization.batch_normalization.BatchNormalization object at 0x7fe4f012de80> False\n",
            "<keras.layers.core.activation.Activation object at 0x7fe4f015f4c0> False\n",
            "<keras.layers.convolutional.conv2d.Conv2D object at 0x7fe4f015f220> False\n",
            "<keras.layers.merging.concatenate.Concatenate object at 0x7fe4f0105250> False\n",
            "<keras.layers.normalization.batch_normalization.BatchNormalization object at 0x7fe4f010dac0> False\n",
            "<keras.layers.core.activation.Activation object at 0x7fe4f012d8e0> False\n",
            "<keras.layers.convolutional.conv2d.Conv2D object at 0x7fe4f01fc7f0> False\n",
            "<keras.layers.normalization.batch_normalization.BatchNormalization object at 0x7fe4f011f040> False\n",
            "<keras.layers.core.activation.Activation object at 0x7fe4f026f910> False\n",
            "<keras.layers.convolutional.conv2d.Conv2D object at 0x7fe4f019fa90> False\n",
            "<keras.layers.merging.concatenate.Concatenate object at 0x7fe4f0278820> False\n",
            "<keras.layers.normalization.batch_normalization.BatchNormalization object at 0x7fe4f0117d00> False\n",
            "<keras.layers.core.activation.Activation object at 0x7fe4f00d08e0> False\n",
            "<keras.layers.convolutional.conv2d.Conv2D object at 0x7fe4f00d0700> False\n",
            "<keras.layers.normalization.batch_normalization.BatchNormalization object at 0x7fe4f01177c0> False\n",
            "<keras.layers.core.activation.Activation object at 0x7fe4f00dd490> False\n",
            "<keras.layers.convolutional.conv2d.Conv2D object at 0x7fe4f00dd910> False\n",
            "<keras.layers.merging.concatenate.Concatenate object at 0x7fe4f00d08b0> False\n",
            "<keras.layers.normalization.batch_normalization.BatchNormalization object at 0x7fe4f00e4bb0> False\n",
            "<keras.layers.core.activation.Activation object at 0x7fe4f00ed040> False\n",
            "<keras.layers.convolutional.conv2d.Conv2D object at 0x7fe4f00ede80> False\n",
            "<keras.layers.normalization.batch_normalization.BatchNormalization object at 0x7fe4f00d0d00> False\n",
            "<keras.layers.core.activation.Activation object at 0x7fe4f00fc250> False\n",
            "<keras.layers.convolutional.conv2d.Conv2D object at 0x7fe4f00fc790> False\n",
            "<keras.layers.merging.concatenate.Concatenate object at 0x7fe4f00ed730> False\n",
            "<keras.layers.normalization.batch_normalization.BatchNormalization object at 0x7fe4f0085f70> False\n",
            "<keras.layers.core.activation.Activation object at 0x7fe4f008d880> False\n",
            "<keras.layers.convolutional.conv2d.Conv2D object at 0x7fe4f008dbb0> False\n",
            "<keras.layers.normalization.batch_normalization.BatchNormalization object at 0x7fe4f00edac0> False\n",
            "<keras.layers.core.activation.Activation object at 0x7fe4f009d0d0> False\n",
            "<keras.layers.convolutional.conv2d.Conv2D object at 0x7fe4f009d490> False\n",
            "<keras.layers.merging.concatenate.Concatenate object at 0x7fe4f008d4f0> False\n",
            "<keras.layers.normalization.batch_normalization.BatchNormalization object at 0x7fe4f00a4d30> False\n",
            "<keras.layers.core.activation.Activation object at 0x7fe4f00e4d60> False\n",
            "<keras.layers.convolutional.conv2d.Conv2D object at 0x7fe4f00942b0> False\n",
            "<keras.layers.normalization.batch_normalization.BatchNormalization object at 0x7fe4f00af6a0> False\n",
            "<keras.layers.core.activation.Activation object at 0x7fe4f003f100> False\n",
            "<keras.layers.convolutional.conv2d.Conv2D object at 0x7fe4f003f0a0> False\n",
            "<keras.layers.merging.concatenate.Concatenate object at 0x7fe4f00b7e50> False\n",
            "<keras.layers.normalization.batch_normalization.BatchNormalization object at 0x7fe4f00af3a0> False\n",
            "<keras.layers.core.activation.Activation object at 0x7fe4f0094d60> False\n",
            "<keras.layers.convolutional.conv2d.Conv2D object at 0x7fe4f0094b20> False\n",
            "<keras.layers.normalization.batch_normalization.BatchNormalization object at 0x7fe4f00a4df0> False\n",
            "<keras.layers.core.activation.Activation object at 0x7fe4f00dd460> False\n",
            "<keras.layers.convolutional.conv2d.Conv2D object at 0x7fe4f00d6520> False\n",
            "<keras.layers.merging.concatenate.Concatenate object at 0x7fe4f00fc1c0> False\n",
            "<keras.layers.normalization.batch_normalization.BatchNormalization object at 0x7fe4f0117640> False\n",
            "<keras.layers.core.activation.Activation object at 0x7fe4f00fd8e0> False\n",
            "<keras.layers.convolutional.conv2d.Conv2D object at 0x7fe4f0150dc0> False\n",
            "<keras.layers.normalization.batch_normalization.BatchNormalization object at 0x7fe4f0085190> False\n",
            "<keras.layers.core.activation.Activation object at 0x7fe4f013dd30> False\n",
            "<keras.layers.convolutional.conv2d.Conv2D object at 0x7fe4f010d670> False\n",
            "<keras.layers.merging.concatenate.Concatenate object at 0x7fe4f0126280> False\n",
            "<keras.layers.normalization.batch_normalization.BatchNormalization object at 0x7fe4f008abb0> False\n",
            "<keras.layers.core.activation.Activation object at 0x7fe4f0046bb0> False\n",
            "<keras.layers.convolutional.conv2d.Conv2D object at 0x7fe4f0046f40> False\n",
            "<keras.layers.normalization.batch_normalization.BatchNormalization object at 0x7fe4f00b71f0> False\n",
            "<keras.layers.core.activation.Activation object at 0x7fe4f0137070> False\n",
            "<keras.layers.convolutional.conv2d.Conv2D object at 0x7fe4f004ea90> False\n",
            "<keras.layers.merging.concatenate.Concatenate object at 0x7fe4f0044f70> False\n",
            "<keras.layers.normalization.batch_normalization.BatchNormalization object at 0x7fe4f0061f40> False\n",
            "<keras.layers.core.activation.Activation object at 0x7fe4f0061b50> False\n",
            "<keras.layers.convolutional.conv2d.Conv2D object at 0x7fe4f0061d30> False\n",
            "<keras.layers.normalization.batch_normalization.BatchNormalization object at 0x7fe4f0061c10> False\n",
            "<keras.layers.core.activation.Activation object at 0x7fe4f0071640> False\n",
            "<keras.layers.convolutional.conv2d.Conv2D object at 0x7fe4f0044880> False\n",
            "<keras.layers.merging.concatenate.Concatenate object at 0x7fe4f0071880> False\n",
            "<keras.layers.normalization.batch_normalization.BatchNormalization object at 0x7fe4e87c4d30> False\n",
            "<keras.layers.core.activation.Activation object at 0x7fe4e87c4940> False\n",
            "<keras.layers.convolutional.conv2d.Conv2D object at 0x7fe4f0068ee0> False\n",
            "<keras.layers.normalization.batch_normalization.BatchNormalization object at 0x7fe4f0068a60> False\n",
            "<keras.layers.core.activation.Activation object at 0x7fe4e87c4df0> False\n",
            "<keras.layers.convolutional.conv2d.Conv2D object at 0x7fe4f005ad90> False\n",
            "<keras.layers.merging.concatenate.Concatenate object at 0x7fe4e87c4400> False\n",
            "<keras.layers.normalization.batch_normalization.BatchNormalization object at 0x7fe4e87e5af0> False\n",
            "<keras.layers.core.activation.Activation object at 0x7fe4e87e5310> False\n",
            "<keras.layers.convolutional.conv2d.Conv2D object at 0x7fe4e87dba60> False\n",
            "<keras.layers.normalization.batch_normalization.BatchNormalization object at 0x7fe4e87db970> False\n",
            "<keras.layers.core.activation.Activation object at 0x7fe4e87e5bb0> False\n",
            "<keras.layers.convolutional.conv2d.Conv2D object at 0x7fe4e87e5d30> False\n",
            "<keras.layers.merging.concatenate.Concatenate object at 0x7fe4e87e5190> False\n",
            "<keras.layers.normalization.batch_normalization.BatchNormalization object at 0x7fe4e87d5c10> False\n",
            "<keras.layers.core.activation.Activation object at 0x7fe4f0071d00> False\n",
            "<keras.layers.convolutional.conv2d.Conv2D object at 0x7fe4f0079430> False\n",
            "<keras.layers.normalization.batch_normalization.BatchNormalization object at 0x7fe4f0071f10> False\n",
            "<keras.layers.core.activation.Activation object at 0x7fe4f0061160> False\n",
            "<keras.layers.convolutional.conv2d.Conv2D object at 0x7fe4f0061070> False\n",
            "<keras.layers.merging.concatenate.Concatenate object at 0x7fe4f0044250> False\n",
            "<keras.layers.normalization.batch_normalization.BatchNormalization object at 0x7fe4f00ce820> False\n",
            "<keras.layers.core.activation.Activation object at 0x7fe4f00a4220> False\n",
            "<keras.layers.convolutional.conv2d.Conv2D object at 0x7fe4f00a41f0> False\n",
            "<keras.layers.normalization.batch_normalization.BatchNormalization object at 0x7fe4f00e4ac0> False\n",
            "<keras.layers.core.activation.Activation object at 0x7fe4f00d0c10> False\n",
            "<keras.layers.convolutional.conv2d.Conv2D object at 0x7fe4e87e0ca0> False\n",
            "<keras.layers.merging.concatenate.Concatenate object at 0x7fe4f00f44f0> False\n",
            "<keras.layers.normalization.batch_normalization.BatchNormalization object at 0x7fe4e87d1f70> False\n",
            "<keras.layers.core.activation.Activation object at 0x7fe4e87828b0> False\n",
            "<keras.layers.convolutional.conv2d.Conv2D object at 0x7fe4e8782b80> False\n",
            "<keras.layers.normalization.batch_normalization.BatchNormalization object at 0x7fe4f003fc40> False\n",
            "<keras.layers.core.activation.Activation object at 0x7fe4e87900d0> False\n",
            "<keras.layers.convolutional.conv2d.Conv2D object at 0x7fe4e8790490> False\n",
            "<keras.layers.merging.concatenate.Concatenate object at 0x7fe4e87824c0> False\n",
            "<keras.layers.normalization.batch_normalization.BatchNormalization object at 0x7fe4e8797d30> False\n",
            "<keras.layers.core.activation.Activation object at 0x7fe4e87d1cd0> False\n",
            "<keras.layers.convolutional.conv2d.Conv2D object at 0x7fe4e878a2b0> False\n",
            "<keras.layers.normalization.batch_normalization.BatchNormalization object at 0x7fe4e87a26a0> False\n",
            "<keras.layers.core.activation.Activation object at 0x7fe4e87d1b80> False\n",
            "<keras.layers.convolutional.conv2d.Conv2D object at 0x7fe4e87b11c0> False\n",
            "<keras.layers.merging.concatenate.Concatenate object at 0x7fe4e87979d0> False\n",
            "<keras.layers.normalization.batch_normalization.BatchNormalization object at 0x7fe4e87b8af0> False\n",
            "<keras.layers.core.activation.Activation object at 0x7fe4e87b8fd0> False\n",
            "<keras.layers.convolutional.conv2d.Conv2D object at 0x7fe4e87978e0> False\n",
            "<keras.layers.normalization.batch_normalization.BatchNormalization object at 0x7fe4e8797400> False\n",
            "<keras.layers.core.activation.Activation object at 0x7fe4e87b17f0> False\n",
            "<keras.layers.convolutional.conv2d.Conv2D object at 0x7fe4e8797100> False\n",
            "<keras.layers.merging.concatenate.Concatenate object at 0x7fe4e87b12e0> False\n",
            "<keras.layers.normalization.batch_normalization.BatchNormalization object at 0x7fe4e8752e80> False\n",
            "<keras.layers.core.activation.Activation object at 0x7fe4e875c3a0> False\n",
            "<keras.layers.convolutional.conv2d.Conv2D object at 0x7fe4e874dd30> False\n",
            "<keras.layers.normalization.batch_normalization.BatchNormalization object at 0x7fe4e875c580> False\n",
            "<keras.layers.core.activation.Activation object at 0x7fe4e876c9d0> False\n",
            "<keras.layers.convolutional.conv2d.Conv2D object at 0x7fe4e876c1c0> False\n",
            "<keras.layers.merging.concatenate.Concatenate object at 0x7fe4e875cd90> False\n",
            "<keras.layers.normalization.batch_normalization.BatchNormalization object at 0x7fe4e874d970> False\n",
            "<keras.layers.core.activation.Activation object at 0x7fe4e87a8190> False\n",
            "<keras.layers.convolutional.conv2d.Conv2D object at 0x7fe4e87b1f70> False\n",
            "<keras.layers.normalization.batch_normalization.BatchNormalization object at 0x7fe4e87a2a90> False\n",
            "<keras.layers.core.activation.Activation object at 0x7fe4e8782580> False\n",
            "<keras.layers.convolutional.conv2d.Conv2D object at 0x7fe4e8782a00> False\n",
            "<keras.layers.merging.concatenate.Concatenate object at 0x7fe4e87a2310> False\n",
            "<keras.layers.normalization.batch_normalization.BatchNormalization object at 0x7fe4f008d5e0> False\n",
            "<keras.layers.core.activation.Activation object at 0x7fe4f005a040> False\n",
            "<keras.layers.convolutional.conv2d.Conv2D object at 0x7fe4e87fcee0> False\n",
            "<keras.layers.normalization.batch_normalization.BatchNormalization object at 0x7fe4f0044460> False\n",
            "<keras.layers.core.activation.Activation object at 0x7fe4e8751b50> False\n",
            "<keras.layers.convolutional.conv2d.Conv2D object at 0x7fe4e8751550> False\n",
            "<keras.layers.merging.concatenate.Concatenate object at 0x7fe4f0188c10> False\n",
            "<keras.layers.normalization.batch_normalization.BatchNormalization object at 0x7fe4e8778d30> False\n",
            "<keras.layers.core.activation.Activation object at 0x7fe4f00d6250> False\n",
            "<keras.layers.convolutional.conv2d.Conv2D object at 0x7fe4e8778fa0> False\n",
            "<keras.layers.normalization.batch_normalization.BatchNormalization object at 0x7fe4e877c790> False\n",
            "<keras.layers.core.activation.Activation object at 0x7fe4f0079d90> False\n",
            "<keras.layers.convolutional.conv2d.Conv2D object at 0x7fe4e870a610> False\n",
            "<keras.layers.merging.concatenate.Concatenate object at 0x7fe4e8751280> False\n",
            "<keras.layers.normalization.batch_normalization.BatchNormalization object at 0x7fe4e8718ac0> False\n",
            "<keras.layers.core.activation.Activation object at 0x7fe4e8718cd0> False\n",
            "<keras.layers.convolutional.conv2d.Conv2D object at 0x7fe4e8718bb0> False\n",
            "<keras.layers.normalization.batch_normalization.BatchNormalization object at 0x7fe4e8710a30> False\n",
            "<keras.layers.core.activation.Activation object at 0x7fe4e87255e0> False\n",
            "<keras.layers.convolutional.conv2d.Conv2D object at 0x7fe4e8725790> False\n",
            "<keras.layers.merging.concatenate.Concatenate object at 0x7fe4e8725a60> False\n",
            "<keras.layers.normalization.batch_normalization.BatchNormalization object at 0x7fe4e8705fa0> False\n",
            "<keras.layers.core.activation.Activation object at 0x7fe4e872f370> False\n",
            "<keras.layers.convolutional.conv2d.Conv2D object at 0x7fe4e8710ee0> False\n",
            "<keras.layers.normalization.batch_normalization.BatchNormalization object at 0x7fe4e871ca90> False\n",
            "<keras.layers.core.activation.Activation object at 0x7fe4e873c910> False\n",
            "<keras.layers.convolutional.conv2d.Conv2D object at 0x7fe4e873c1c0> False\n",
            "<keras.layers.merging.concatenate.Concatenate object at 0x7fe4e872fca0> False\n",
            "<keras.layers.normalization.batch_normalization.BatchNormalization object at 0x7fe4e86c4fa0> False\n",
            "<keras.layers.core.activation.Activation object at 0x7fe4e86cb040> False\n",
            "<keras.layers.convolutional.conv2d.Conv2D object at 0x7fe4e86cb880> False\n",
            "<keras.layers.normalization.batch_normalization.BatchNormalization object at 0x7fe4e86c4670> False\n",
            "<keras.layers.core.activation.Activation object at 0x7fe4e86dd670> False\n",
            "<keras.layers.convolutional.conv2d.Conv2D object at 0x7fe4e86ddb80> False\n",
            "<keras.layers.merging.concatenate.Concatenate object at 0x7fe4e86cbbb0> False\n",
            "<keras.layers.normalization.batch_normalization.BatchNormalization object at 0x7fe4e873c850> False\n",
            "<keras.layers.core.activation.Activation object at 0x7fe4e8705700> False\n",
            "<keras.layers.convolutional.conv2d.Conv2D object at 0x7fe4e8725e20> False\n",
            "<keras.layers.normalization.batch_normalization.BatchNormalization object at 0x7fe4e86c4af0> False\n",
            "<keras.layers.core.activation.Activation object at 0x7fe4f0216f40> False\n",
            "<keras.layers.convolutional.conv2d.Conv2D object at 0x7fe4e8710100> False\n",
            "<keras.layers.merging.concatenate.Concatenate object at 0x7fe4e8778850> False\n",
            "<keras.layers.normalization.batch_normalization.BatchNormalization object at 0x7fe4f005a880> False\n",
            "<keras.layers.core.activation.Activation object at 0x7fe4e8735af0> False\n",
            "<keras.layers.convolutional.conv2d.Conv2D object at 0x7fe4e87a2610> False\n",
            "<keras.layers.normalization.batch_normalization.BatchNormalization object at 0x7fe4f004e310> False\n",
            "<keras.layers.core.activation.Activation object at 0x7fe4e86e9910> False\n",
            "<keras.layers.convolutional.conv2d.Conv2D object at 0x7fe4e86e91c0> False\n",
            "<keras.layers.merging.concatenate.Concatenate object at 0x7fe4f0079940> False\n",
            "<keras.layers.normalization.batch_normalization.BatchNormalization object at 0x7fe4e86eaaf0> False\n",
            "<keras.layers.core.activation.Activation object at 0x7fe4e86ea5e0> False\n",
            "<keras.layers.convolutional.conv2d.Conv2D object at 0x7fe4e8751100> False\n",
            "<keras.layers.normalization.batch_normalization.BatchNormalization object at 0x7fe4e86e6820> False\n",
            "<keras.layers.core.activation.Activation object at 0x7fe4e86e97f0> False\n",
            "<keras.layers.convolutional.conv2d.Conv2D object at 0x7fe4e8751e50> False\n",
            "<keras.layers.merging.concatenate.Concatenate object at 0x7fe4e87a25e0> False\n",
            "<keras.layers.normalization.batch_normalization.BatchNormalization object at 0x7fe4e86fce80> False\n",
            "<keras.layers.core.activation.Activation object at 0x7fe4e86853a0> False\n",
            "<keras.layers.convolutional.conv2d.Conv2D object at 0x7fe4e86f8d30> False\n",
            "<keras.layers.pooling.average_pooling2d.AveragePooling2D object at 0x7fe4e868eee0> False\n",
            "<keras.layers.normalization.batch_normalization.BatchNormalization object at 0x7fe4e868ef10> False\n",
            "<keras.layers.core.activation.Activation object at 0x7fe4e86954f0> False\n",
            "<keras.layers.convolutional.conv2d.Conv2D object at 0x7fe4e868e5b0> False\n",
            "<keras.layers.normalization.batch_normalization.BatchNormalization object at 0x7fe4e868ec40> False\n",
            "<keras.layers.core.activation.Activation object at 0x7fe4e8695190> False\n",
            "<keras.layers.convolutional.conv2d.Conv2D object at 0x7fe4e86a32e0> False\n",
            "<keras.layers.merging.concatenate.Concatenate object at 0x7fe4e8695640> False\n",
            "<keras.layers.normalization.batch_normalization.BatchNormalization object at 0x7fe4e86aad90> False\n",
            "<keras.layers.core.activation.Activation object at 0x7fe4e86b3670> False\n",
            "<keras.layers.convolutional.conv2d.Conv2D object at 0x7fe4e86aaa60> False\n",
            "<keras.layers.normalization.batch_normalization.BatchNormalization object at 0x7fe4e86aadf0> False\n",
            "<keras.layers.core.activation.Activation object at 0x7fe4e8644820> False\n",
            "<keras.layers.convolutional.conv2d.Conv2D object at 0x7fe4e86bbbb0> False\n",
            "<keras.layers.merging.concatenate.Concatenate object at 0x7fe4e86b3520> False\n",
            "<keras.layers.normalization.batch_normalization.BatchNormalization object at 0x7fe4e864cf10> False\n",
            "<keras.layers.core.activation.Activation object at 0x7fe4e8654280> False\n",
            "<keras.layers.convolutional.conv2d.Conv2D object at 0x7fe4e86540a0> False\n",
            "<keras.layers.normalization.batch_normalization.BatchNormalization object at 0x7fe4e864c7f0> False\n",
            "<keras.layers.core.activation.Activation object at 0x7fe4e869c130> False\n",
            "<keras.layers.convolutional.conv2d.Conv2D object at 0x7fe4e86b3d30> False\n",
            "<keras.layers.merging.concatenate.Concatenate object at 0x7fe4e869c790> False\n",
            "<keras.layers.normalization.batch_normalization.BatchNormalization object at 0x7fe4e8685e80> False\n",
            "<keras.layers.core.activation.Activation object at 0x7fe4e86f09d0> False\n",
            "<keras.layers.convolutional.conv2d.Conv2D object at 0x7fe4e86eac10> False\n",
            "<keras.layers.normalization.batch_normalization.BatchNormalization object at 0x7fe4e8654e80> False\n",
            "<keras.layers.core.activation.Activation object at 0x7fe4e870ab20> False\n",
            "<keras.layers.convolutional.conv2d.Conv2D object at 0x7fe4e87b1be0> False\n",
            "<keras.layers.merging.concatenate.Concatenate object at 0x7fe4e86f0850> False\n",
            "<keras.layers.normalization.batch_normalization.BatchNormalization object at 0x7fe4e8751670> False\n",
            "<keras.layers.core.activation.Activation object at 0x7fe4e8705a30> False\n",
            "<keras.layers.convolutional.conv2d.Conv2D object at 0x7fe4e86d5370> False\n",
            "<keras.layers.normalization.batch_normalization.BatchNormalization object at 0x7fe4e86d5c40> False\n",
            "<keras.layers.core.activation.Activation object at 0x7fe4e865ccd0> False\n",
            "<keras.layers.convolutional.conv2d.Conv2D object at 0x7fe4e8665520> False\n",
            "<keras.layers.merging.concatenate.Concatenate object at 0x7fe4e865c9a0> False\n",
            "<keras.layers.normalization.batch_normalization.BatchNormalization object at 0x7fe4e8661940> False\n",
            "<keras.layers.core.activation.Activation object at 0x7fe4e8671880> False\n",
            "<keras.layers.convolutional.conv2d.Conv2D object at 0x7fe4e866bd00> False\n",
            "<keras.layers.normalization.batch_normalization.BatchNormalization object at 0x7fe4e86fcac0> False\n",
            "<keras.layers.core.activation.Activation object at 0x7fe4e8600ac0> False\n",
            "<keras.layers.convolutional.conv2d.Conv2D object at 0x7fe4e86002b0> False\n",
            "<keras.layers.merging.concatenate.Concatenate object at 0x7fe4e86715e0> False\n",
            "<keras.layers.normalization.batch_normalization.BatchNormalization object at 0x7fe4e8607fd0> False\n",
            "<keras.layers.core.activation.Activation object at 0x7fe4e8671070> False\n",
            "<keras.layers.convolutional.conv2d.Conv2D object at 0x7fe4e860ea30> False\n",
            "<keras.layers.normalization.batch_normalization.BatchNormalization object at 0x7fe4e8607550> False\n",
            "<keras.layers.core.activation.Activation object at 0x7fe4e8671a60> False\n",
            "<keras.layers.convolutional.conv2d.Conv2D object at 0x7fe4e8616b50> False\n",
            "<keras.layers.merging.concatenate.Concatenate object at 0x7fe4e860e4f0> False\n",
            "<keras.layers.normalization.batch_normalization.BatchNormalization object at 0x7fe4e8626c70> False\n",
            "<keras.layers.core.activation.Activation object at 0x7fe4e862f250> False\n",
            "<keras.layers.convolutional.conv2d.Conv2D object at 0x7fe4e862f340> False\n",
            "<keras.layers.normalization.batch_normalization.BatchNormalization object at 0x7fe4e8637b80> False\n",
            "<keras.layers.core.activation.Activation object at 0x7fe4e85be550> False\n",
            "<keras.layers.convolutional.conv2d.Conv2D object at 0x7fe4e85bea60> False\n",
            "<keras.layers.merging.concatenate.Concatenate object at 0x7fe4e862fa60> False\n",
            "<keras.layers.normalization.batch_normalization.BatchNormalization object at 0x7fe4e85c4cd0> False\n",
            "<keras.layers.core.activation.Activation object at 0x7fe4e85cbc10> False\n",
            "<keras.layers.convolutional.conv2d.Conv2D object at 0x7fe4e85cbfa0> False\n",
            "<keras.layers.normalization.batch_normalization.BatchNormalization object at 0x7fe4e8637df0> False\n",
            "<keras.layers.core.activation.Activation object at 0x7fe4e86168b0> False\n",
            "<keras.layers.convolutional.conv2d.Conv2D object at 0x7fe4e8616880> False\n",
            "<keras.layers.merging.concatenate.Concatenate object at 0x7fe4e860eeb0> False\n",
            "<keras.layers.normalization.batch_normalization.BatchNormalization object at 0x7fe4e8600910> False\n",
            "<keras.layers.core.activation.Activation object at 0x7fe4e8665fa0> False\n",
            "<keras.layers.convolutional.conv2d.Conv2D object at 0x7fe4e866b250> False\n",
            "<keras.layers.normalization.batch_normalization.BatchNormalization object at 0x7fe4e85cbc40> False\n",
            "<keras.layers.core.activation.Activation object at 0x7fe4e86f0b20> False\n",
            "<keras.layers.convolutional.conv2d.Conv2D object at 0x7fe4e8685460> False\n",
            "<keras.layers.merging.concatenate.Concatenate object at 0x7fe4f00684c0> False\n",
            "<keras.layers.normalization.batch_normalization.BatchNormalization object at 0x7fe4e8679eb0> False\n",
            "<keras.layers.core.activation.Activation object at 0x7fe4e86006a0> False\n",
            "<keras.layers.convolutional.conv2d.Conv2D object at 0x7fe4e8679af0> False\n",
            "<keras.layers.normalization.batch_normalization.BatchNormalization object at 0x7fe4e8679040> False\n",
            "<keras.layers.core.activation.Activation object at 0x7fe4e85dca30> False\n",
            "<keras.layers.convolutional.conv2d.Conv2D object at 0x7fe4e85d9df0> False\n",
            "<keras.layers.merging.concatenate.Concatenate object at 0x7fe4e864ca90> False\n",
            "<keras.layers.normalization.batch_normalization.BatchNormalization object at 0x7fe4e85e1ca0> False\n",
            "<keras.layers.core.activation.Activation object at 0x7fe4e85e6670> False\n",
            "<keras.layers.convolutional.conv2d.Conv2D object at 0x7fe4e85e1a00> False\n",
            "<keras.layers.normalization.batch_normalization.BatchNormalization object at 0x7fe4e85e1700> False\n",
            "<keras.layers.core.activation.Activation object at 0x7fe4e85f6820> False\n",
            "<keras.layers.convolutional.conv2d.Conv2D object at 0x7fe4e85f0bb0> False\n",
            "<keras.layers.merging.concatenate.Concatenate object at 0x7fe4e85e6ca0> False\n",
            "<keras.layers.normalization.batch_normalization.BatchNormalization object at 0x7fe4e857ef10> False\n",
            "<keras.layers.core.activation.Activation object at 0x7fe4e8582190> False\n",
            "<keras.layers.convolutional.conv2d.Conv2D object at 0x7fe4e8582040> False\n",
            "<keras.layers.normalization.batch_normalization.BatchNormalization object at 0x7fe4e858cb80> False\n",
            "<keras.layers.core.activation.Activation object at 0x7fe4e8594550> False\n",
            "<keras.layers.convolutional.conv2d.Conv2D object at 0x7fe4e858ce20> False\n",
            "<keras.layers.merging.concatenate.Concatenate object at 0x7fe4e85829d0> False\n",
            "<keras.layers.normalization.batch_normalization.BatchNormalization object at 0x7fe4e859acd0> False\n",
            "<keras.layers.core.activation.Activation object at 0x7fe4e85a2cd0> False\n",
            "<keras.layers.convolutional.conv2d.Conv2D object at 0x7fe4e85a2850> False\n",
            "<keras.layers.normalization.batch_normalization.BatchNormalization object at 0x7fe4e8582e50> False\n",
            "<keras.layers.core.activation.Activation object at 0x7fe4e85b3370> False\n",
            "<keras.layers.convolutional.conv2d.Conv2D object at 0x7fe4e85b38b0> False\n",
            "<keras.layers.merging.concatenate.Concatenate object at 0x7fe4e85a2820> False\n",
            "<keras.layers.normalization.batch_normalization.BatchNormalization object at 0x7fe4e85b8a90> False\n",
            "<keras.layers.core.activation.Activation object at 0x7fe4e85419d0> False\n",
            "<keras.layers.convolutional.conv2d.Conv2D object at 0x7fe4e8541cd0> False\n",
            "<keras.layers.normalization.batch_normalization.BatchNormalization object at 0x7fe4e85b8250> False\n",
            "<keras.layers.core.activation.Activation object at 0x7fe4e858c7c0> False\n",
            "<keras.layers.convolutional.conv2d.Conv2D object at 0x7fe4e858c640> False\n",
            "<keras.layers.merging.concatenate.Concatenate object at 0x7fe4e8541610> False\n",
            "<keras.layers.normalization.batch_normalization.BatchNormalization object at 0x7fe4e85f6910> False\n",
            "<keras.layers.core.activation.Activation object at 0x7fe4e85e6e20> False\n",
            "<keras.layers.convolutional.conv2d.Conv2D object at 0x7fe4e85dc8b0> False\n",
            "<keras.layers.normalization.batch_normalization.BatchNormalization object at 0x7fe4e8541ac0> False\n",
            "<keras.layers.core.activation.Activation object at 0x7fe4e86cbcd0> False\n",
            "<keras.layers.convolutional.conv2d.Conv2D object at 0x7fe4e87744f0> False\n",
            "<keras.layers.merging.concatenate.Concatenate object at 0x7fe4e85e1ac0> False\n",
            "<keras.layers.normalization.batch_normalization.BatchNormalization object at 0x7fe4e859a2e0> False\n",
            "<keras.layers.core.activation.Activation object at 0x7fe4e85f6460> False\n",
            "<keras.layers.convolutional.conv2d.Conv2D object at 0x7fe4e85f0ee0> False\n",
            "<keras.layers.normalization.batch_normalization.BatchNormalization object at 0x7fe4e85f0c40> False\n",
            "<keras.layers.core.activation.Activation object at 0x7fe4e8552820> False\n",
            "<keras.layers.convolutional.conv2d.Conv2D object at 0x7fe4e85f0ca0> False\n",
            "<keras.layers.merging.concatenate.Concatenate object at 0x7fe4e85f6550> False\n",
            "<keras.layers.normalization.batch_normalization.BatchNormalization object at 0x7fe4e8557e50> False\n",
            "<keras.layers.core.activation.Activation object at 0x7fe4e855e070> False\n",
            "<keras.layers.convolutional.conv2d.Conv2D object at 0x7fe4e855e0a0> False\n",
            "<keras.layers.normalization.batch_normalization.BatchNormalization object at 0x7fe4e8567b80> False\n",
            "<keras.layers.core.activation.Activation object at 0x7fe4e856d550> False\n",
            "<keras.layers.convolutional.conv2d.Conv2D object at 0x7fe4e8567e20> False\n",
            "<keras.layers.merging.concatenate.Concatenate object at 0x7fe4e855ea60> False\n",
            "<keras.layers.normalization.batch_normalization.BatchNormalization object at 0x7fe4e8576cd0> False\n",
            "<keras.layers.core.activation.Activation object at 0x7fe4e857c0a0> False\n",
            "<keras.layers.convolutional.conv2d.Conv2D object at 0x7fe4e857c7c0> False\n",
            "<keras.layers.normalization.batch_normalization.BatchNormalization object at 0x7fe4e855ee20> False\n",
            "<keras.layers.core.activation.Activation object at 0x7fe4e850b370> False\n",
            "<keras.layers.convolutional.conv2d.Conv2D object at 0x7fe4e850b8b0> False\n",
            "<keras.layers.merging.concatenate.Concatenate object at 0x7fe4e857c790> False\n",
            "<keras.layers.normalization.batch_normalization.BatchNormalization object at 0x7fe4e8511a90> False\n",
            "<keras.layers.core.activation.Activation object at 0x7fe4e8576e50> False\n",
            "<keras.layers.convolutional.conv2d.Conv2D object at 0x7fe4e851b3a0> False\n",
            "<keras.layers.normalization.batch_normalization.BatchNormalization object at 0x7fe4e857cc10> False\n",
            "<keras.layers.core.activation.Activation object at 0x7fe4e8529130> False\n",
            "<keras.layers.convolutional.conv2d.Conv2D object at 0x7fe4e8529670> False\n",
            "<keras.layers.merging.concatenate.Concatenate object at 0x7fe4e850b520> False\n",
            "<keras.layers.normalization.batch_normalization.BatchNormalization object at 0x7fe4e8530e50> False\n",
            "<keras.layers.core.activation.Activation object at 0x7fe4e8530b20> False\n",
            "<keras.layers.convolutional.conv2d.Conv2D object at 0x7fe4e85302e0> False\n",
            "<keras.layers.normalization.batch_normalization.BatchNormalization object at 0x7fe4e85293d0> False\n",
            "<keras.layers.core.activation.Activation object at 0x7fe4e85764f0> False\n",
            "<keras.layers.convolutional.conv2d.Conv2D object at 0x7fe4e85768b0> False\n",
            "<keras.layers.merging.concatenate.Concatenate object at 0x7fe4e856d1f0> False\n",
            "<keras.layers.normalization.batch_normalization.BatchNormalization object at 0x7fe4e8567790> False\n",
            "<keras.layers.core.activation.Activation object at 0x7fe4e8522670> False\n",
            "<keras.layers.convolutional.conv2d.Conv2D object at 0x7fe4e854e8e0> False\n",
            "<keras.layers.normalization.batch_normalization.BatchNormalization object at 0x7fe4e8607940> False\n",
            "<keras.layers.core.activation.Activation object at 0x7fe4e85c4c10> False\n",
            "<keras.layers.convolutional.conv2d.Conv2D object at 0x7fe4e868e0d0> False\n",
            "<keras.layers.merging.concatenate.Concatenate object at 0x7fe4e850b100> False\n",
            "<keras.layers.normalization.batch_normalization.BatchNormalization object at 0x7fe4e8538370> False\n",
            "<keras.layers.core.activation.Activation object at 0x7fe4e85301f0> False\n",
            "<keras.layers.convolutional.conv2d.Conv2D object at 0x7fe4e8538790> False\n",
            "<keras.layers.normalization.batch_normalization.BatchNormalization object at 0x7fe4e8538880> False\n",
            "<keras.layers.core.activation.Activation object at 0x7fe4e84c75e0> False\n",
            "<keras.layers.convolutional.conv2d.Conv2D object at 0x7fe4e84c4e20> False\n",
            "<keras.layers.merging.concatenate.Concatenate object at 0x7fe4e85e10d0> False\n",
            "<keras.layers.normalization.batch_normalization.BatchNormalization object at 0x7fe4e84cdcd0> False\n",
            "<keras.layers.core.activation.Activation object at 0x7fe4e84d5cd0> False\n",
            "<keras.layers.convolutional.conv2d.Conv2D object at 0x7fe4e84d56a0> False\n",
            "<keras.layers.normalization.batch_normalization.BatchNormalization object at 0x7fe4e84c2e50> False\n",
            "<keras.layers.core.activation.Activation object at 0x7fe4e84e5370> False\n",
            "<keras.layers.convolutional.conv2d.Conv2D object at 0x7fe4e84e58b0> False\n",
            "<keras.layers.merging.concatenate.Concatenate object at 0x7fe4e84d5850> False\n",
            "<keras.layers.normalization.batch_normalization.BatchNormalization object at 0x7fe4e84eba90> False\n",
            "<keras.layers.core.activation.Activation object at 0x7fe4e84cd9a0> False\n",
            "<keras.layers.convolutional.conv2d.Conv2D object at 0x7fe4e84f13a0> False\n",
            "<keras.layers.normalization.batch_normalization.BatchNormalization object at 0x7fe4e84d5be0> False\n",
            "<keras.layers.core.activation.Activation object at 0x7fe4e8482130> False\n",
            "<keras.layers.convolutional.conv2d.Conv2D object at 0x7fe4e8482670> False\n",
            "<keras.layers.merging.concatenate.Concatenate object at 0x7fe4e84e5520> False\n",
            "<keras.layers.normalization.batch_normalization.BatchNormalization object at 0x7fe4e8487e50> False\n",
            "<keras.layers.core.activation.Activation object at 0x7fe4e8487790> False\n",
            "<keras.layers.convolutional.conv2d.Conv2D object at 0x7fe4e8487fd0> False\n",
            "<keras.layers.normalization.batch_normalization.BatchNormalization object at 0x7fe4e84917c0> False\n",
            "<keras.layers.core.activation.Activation object at 0x7fe4e849fa30> False\n",
            "<keras.layers.convolutional.conv2d.Conv2D object at 0x7fe4e849f310> False\n",
            "<keras.layers.merging.concatenate.Concatenate object at 0x7fe4e84822e0> False\n",
            "<keras.layers.normalization.batch_normalization.BatchNormalization object at 0x7fe4e84a5c10> False\n",
            "<keras.layers.core.activation.Activation object at 0x7fe4e84a5100> False\n",
            "<keras.layers.convolutional.conv2d.Conv2D object at 0x7fe4e849fc40> False\n",
            "<keras.layers.normalization.batch_normalization.BatchNormalization object at 0x7fe4e8491520> False\n",
            "<keras.layers.core.activation.Activation object at 0x7fe4e84f1ee0> False\n",
            "<keras.layers.convolutional.conv2d.Conv2D object at 0x7fe4e8487cd0> False\n",
            "<keras.layers.merging.concatenate.Concatenate object at 0x7fe4e84a5730> False\n",
            "<keras.layers.normalization.batch_normalization.BatchNormalization object at 0x7fe4e84d5a30> False\n",
            "<keras.layers.core.activation.Activation object at 0x7fe4e8626ac0> False\n",
            "<keras.layers.convolutional.conv2d.Conv2D object at 0x7fe4e84d5df0> False\n",
            "<keras.layers.normalization.batch_normalization.BatchNormalization object at 0x7fe4e8594640> False\n",
            "<keras.layers.core.activation.Activation object at 0x7fe4e86a3940> False\n",
            "<keras.layers.convolutional.conv2d.Conv2D object at 0x7fe4e859ae50> False\n",
            "<keras.layers.merging.concatenate.Concatenate object at 0x7fe4e84cd340> False\n",
            "<keras.layers.normalization.batch_normalization.BatchNormalization object at 0x7fe4e84b1190> False\n",
            "<keras.layers.core.activation.Activation object at 0x7fe4e84b9ca0> False\n",
            "<keras.layers.convolutional.conv2d.Conv2D object at 0x7fe4e84b9670> False\n",
            "<keras.layers.normalization.batch_normalization.BatchNormalization object at 0x7fe4e85942e0> False\n",
            "<keras.layers.core.activation.Activation object at 0x7fe4e8442e80> False\n",
            "<keras.layers.convolutional.conv2d.Conv2D object at 0x7fe4e8442850> False\n",
            "<keras.layers.merging.concatenate.Concatenate object at 0x7fe4e84b90a0> True\n",
            "<keras.layers.normalization.batch_normalization.BatchNormalization object at 0x7fe4e8448a60> True\n",
            "<keras.layers.core.activation.Activation object at 0x7fe4e84b93a0> True\n",
            "<keras.layers.convolutional.conv2d.Conv2D object at 0x7fe4e844f370> True\n",
            "<keras.layers.normalization.batch_normalization.BatchNormalization object at 0x7fe4e84b9bb0> True\n",
            "<keras.layers.core.activation.Activation object at 0x7fe4e845c100> True\n",
            "<keras.layers.convolutional.conv2d.Conv2D object at 0x7fe4e845c640> True\n",
            "<keras.layers.merging.concatenate.Concatenate object at 0x7fe4e84424f0> True\n",
            "<keras.layers.normalization.batch_normalization.BatchNormalization object at 0x7fe4e8466e20> True\n",
            "<keras.layers.core.activation.Activation object at 0x7fe4e84663a0> True\n",
            "<keras.layers.convolutional.conv2d.Conv2D object at 0x7fe4e8466fd0> True\n",
            "<keras.layers.normalization.batch_normalization.BatchNormalization object at 0x7fe4e846f790> True\n",
            "<keras.layers.core.activation.Activation object at 0x7fe4e83ffa00> True\n",
            "<keras.layers.convolutional.conv2d.Conv2D object at 0x7fe4e83ff2e0> True\n",
            "<keras.layers.merging.concatenate.Concatenate object at 0x7fe4e8466be0> True\n",
            "<keras.layers.normalization.batch_normalization.BatchNormalization object at 0x7fe4e8406be0> True\n",
            "<keras.layers.core.activation.Activation object at 0x7fe4e8406580> True\n",
            "<keras.layers.convolutional.conv2d.Conv2D object at 0x7fe4e8406a00> True\n",
            "<keras.layers.normalization.batch_normalization.BatchNormalization object at 0x7fe4e8412550> True\n",
            "<keras.layers.core.activation.Activation object at 0x7fe4e8422640> True\n",
            "<keras.layers.convolutional.conv2d.Conv2D object at 0x7fe4e8422a00> True\n",
            "<keras.layers.merging.concatenate.Concatenate object at 0x7fe4e83ff880> True\n",
            "<keras.layers.normalization.batch_normalization.BatchNormalization object at 0x7fe4e841bf10> True\n",
            "<keras.layers.core.activation.Activation object at 0x7fe4e842b490> True\n"
          ]
        }
      ],
      "source": [
        "for layer in densenet201.layers[:-24]:\n",
        "    layer.trainable = False\n",
        " # Check the trainable status of the individual layers\n",
        "for layer in densenet201.layers:\n",
        "    print(layer, layer.trainable)"
      ]
    },
    {
      "cell_type": "code",
      "execution_count": null,
      "metadata": {
        "id": "Z61yfoqhK_ns"
      },
      "outputs": [],
      "source": [
        "def get_compiled_model():\n",
        "    # Create the model\n",
        "    model = models.Sequential()\n",
        "    # Add the vgg convolutional base model\n",
        "    model.add(densenet201)\n",
        "\n",
        "    # Add new layers\n",
        "    model.add(tf.keras.layers.Flatten())\n",
        "    model.add(tf.keras.layers.Dense(128, \n",
        "                                #  kernel_regularizer=regularizers.L1L2(l1=1e-4, l2=1e-4),\n",
        "                                #  bias_regularizer=regularizers.L2(1e-4),\n",
        "                                #  activity_regularizer=regularizers.L2(1e-4),\n",
        "                                activation='relu'))\n",
        "    # model.add(tf.keras.layers.Dropout(0.2))\n",
        "    model.add(tf.keras.layers.Dense(9, activation='softmax'))\n",
        "\n",
        "#     model.add(tf.keras.layers.Flatten())\n",
        "#     model.add(tf.keras.layers.Dense(128, use_bias=True))\n",
        "#     model.add(tf.keras.layers.BatchNormalization())\n",
        "#     model.add(tf.keras.layers.Activation(activation='relu'))    \n",
        "#     model.add(tf.keras.layers.Dropout(0.5))\n",
        "#     model.add(tf.keras.layers.Dense(9, activation='softmax'))\n",
        "    \n",
        "    model.compile(optimizer= 'adam',\n",
        "              loss = tf.keras.losses.CategoricalCrossentropy(),\n",
        "              metrics = ['categorical_accuracy'])\n",
        "    \n",
        "    return model"
      ]
    },
    {
      "cell_type": "code",
      "execution_count": null,
      "metadata": {
        "id": "ezIveCP3K_nt"
      },
      "outputs": [],
      "source": [
        "model=get_compiled_model()"
      ]
    },
    {
      "cell_type": "code",
      "execution_count": null,
      "metadata": {
        "colab": {
          "base_uri": "https://localhost:8080/"
        },
        "id": "DxWLlUVQK_nt",
        "outputId": "308c3d93-1f96-4a7c-eb77-102c7a1162ab"
      },
      "outputs": [
        {
          "name": "stdout",
          "output_type": "stream",
          "text": [
            "Model: \"sequential_7\"\n",
            "_________________________________________________________________\n",
            " Layer (type)                Output Shape              Param #   \n",
            "=================================================================\n",
            " densenet201 (Functional)    (None, 7, 7, 1920)        18321984  \n",
            "                                                                 \n",
            " flatten_7 (Flatten)         (None, 94080)             0         \n",
            "                                                                 \n",
            " dense_14 (Dense)            (None, 128)               12042368  \n",
            "                                                                 \n",
            " dense_15 (Dense)            (None, 9)                 1161      \n",
            "                                                                 \n",
            "=================================================================\n",
            "Total params: 30,365,513\n",
            "Trainable params: 12,882,569\n",
            "Non-trainable params: 17,482,944\n",
            "_________________________________________________________________\n"
          ]
        }
      ],
      "source": [
        "model.summary()"
      ]
    },
    {
      "cell_type": "code",
      "execution_count": null,
      "metadata": {
        "id": "C-Igozy-K_nu"
      },
      "outputs": [],
      "source": [
        "model_checkpoint_callback = tf.keras.callbacks.ModelCheckpoint(\n",
        "               filepath = 'model_densenet.h5', \n",
        "               monitor = 'val_categorical_accuracy', \n",
        "               save_best_only = True,)"
      ]
    },
    {
      "cell_type": "code",
      "source": [
        "early_stopping_callback = tf.keras.callbacks.EarlyStopping(\n",
        "                monitor=\"val_categorical_accuracy\",\n",
        "                min_delta=0.01,\n",
        "                patience=5,\n",
        "                verbose=1,\n",
        "                mode=\"max\",\n",
        "                baseline=None,\n",
        "                restore_best_weights=False,\n",
        "                start_from_epoch=0,\n",
        ")"
      ],
      "metadata": {
        "id": "RFzqHrp6OFGN"
      },
      "execution_count": null,
      "outputs": []
    },
    {
      "cell_type": "code",
      "execution_count": null,
      "metadata": {
        "id": "Nz-tnsdPK_nz",
        "outputId": "fad2c5f2-3dd5-41a5-8c25-f967d9328b19"
      },
      "outputs": [
        {
          "data": {
            "image/png": "[encoded data removed]",
            "text/plain": [
              "<Figure size 864x576 with 2 Axes>"
            ]
          },
          "metadata": {},
          "output_type": "display_data"
        },
        {
          "name": "stdout",
          "output_type": "stream",
          "text": [
            "categorical_accuracy\n",
            "\ttraining         \t (min:    0.182, max:    0.376, cur:    0.353)\n",
            "\tvalidation       \t (min:    0.225, max:    0.380, cur:    0.365)\n",
            "Loss\n",
            "\ttraining         \t (min:    1.857, max:    2.974, cur:    1.863)\n",
            "\tvalidation       \t (min:    1.716, max:    4.108, cur:    1.749)\n",
            "20/20 [==============================] - 778s 40s/step - loss: 1.8628 - categorical_accuracy: 0.3527 - val_loss: 1.7494 - val_categorical_accuracy: 0.3648\n",
            "Wall time: 5h 41min 49s\n"
          ]
        }
      ],
      "source": [
        "%%time\n",
        "history = model.fit( train_generator_1,\n",
        "                      steps_per_epoch=80,\n",
        "                      epochs = 30,\n",
        "                      validation_data = test_generator_1,\n",
        "                      validation_steps = 80,\n",
        "                      callbacks = [PlotLossesCallback(), \n",
        "                                   model_checkpoint_callback, \n",
        "                                   ],\n",
        "                      class_weight=class_weight)"
      ]
    },
    {
      "cell_type": "markdown",
      "metadata": {
        "id": "zpZR6IMGK_n0"
      },
      "source": [
        "### MobileNet"
      ]
    },
    {
      "cell_type": "code",
      "execution_count": null,
      "metadata": {
        "id": "KLwVc1BiK_n1"
      },
      "outputs": [],
      "source": [
        "model = tf.keras.applications.MobileNetV3Large(weights='imagenet', include_top=False, input_shape=(224,224, 3))"
      ]
    },
    {
      "cell_type": "code",
      "execution_count": null,
      "metadata": {
        "id": "UKzg5HFkK_n1"
      },
      "outputs": [],
      "source": [
        "def preprocessing_image_mobilenet(image):\n",
        "    image = (np.array(image).astype(float))/255 #convert to array and scale 0..255 to 0..1\n",
        "    img = np.expand_dims(image, axis = 0)\n",
        "    preprocessed_input = preprocess_input(img*255.)\n",
        "    return img"
      ]
    },
    {
      "cell_type": "code",
      "execution_count": null,
      "metadata": {
        "id": "aYZil6v9K_oI"
      },
      "outputs": [],
      "source": [
        "datagen = ImageDataGenerator(\n",
        "#     preprocessing_function=preprocessing_image_mobilenet,\n",
        "                            rescale=1./255, \n",
        "                            rotation_range=20,\n",
        "                            width_shift_range=0.1,\n",
        "                            height_shift_range=0.1,\n",
        "                            shear_range=0.01,\n",
        "                            zoom_range=0.1,\n",
        "# #                           horizontal_flip=True,\n",
        "                            fill_mode='nearest'\n",
        "                            )"
      ]
    },
    {
      "cell_type": "code",
      "execution_count": null,
      "metadata": {
        "id": "I0SYhfMhK_oJ",
        "outputId": "65c28963-8ef7-4bb5-c41a-abc66dff326f"
      },
      "outputs": [
        {
          "name": "stdout",
          "output_type": "stream",
          "text": [
            "Found 40036 validated image filenames belonging to 9 classes.\n",
            "Found 10010 validated image filenames belonging to 9 classes.\n"
          ]
        }
      ],
      "source": [
        "train_generator_1 = datagen.flow_from_dataframe(df3_train,\n",
        "                                                directory='train/train/',\n",
        "                                                target_size=(224,224),\n",
        "                                                x_col=\"image_path\",\n",
        "                                                y_col=\"emotion\",\n",
        "                                                class_mode='categorical',\n",
        "                                                shuffle=True,\n",
        "                                                batch_size=128)\n",
        "\n",
        "test_generator_1 = datagen.flow_from_dataframe(df3_test,\n",
        "                                                directory='train/train/',\n",
        "                                                target_size=(224,224),\n",
        "                                                x_col=\"image_path\",\n",
        "                                                y_col=\"emotion\",\n",
        "                                                class_mode='categorical',\n",
        "                                                shuffle=True,\n",
        "                                                batch_size=128)"
      ]
    },
    {
      "cell_type": "code",
      "execution_count": null,
      "metadata": {
        "id": "GMR-h1phK_oJ",
        "outputId": "b60eb37c-c44f-4bbb-cbcd-47884ddb6f01"
      },
      "outputs": [
        {
          "name": "stdout",
          "output_type": "stream",
          "text": [
            "[0. 0. 0. 0. 1. 0. 0. 0. 0.]\n"
          ]
        },
        {
          "data": {
            "text/plain": [
              "<matplotlib.image.AxesImage at 0x23d45d41e80>"
            ]
          },
          "execution_count": 78,
          "metadata": {},
          "output_type": "execute_result"
        },
        {
          "data": {
            "image/png": "[encoded data removed]",
            "text/plain": [
              "<Figure size 432x288 with 1 Axes>"
            ]
          },
          "metadata": {},
          "output_type": "display_data"
        }
      ],
      "source": [
        "sample = next(train_generator_1)\n",
        "print(sample[1][3])\n",
        "# print(np.split(sample[1][3].astype(\"float32\"), 3, axis=1))\n",
        "plt.imshow(sample[0][3])"
      ]
    },
    {
      "cell_type": "code",
      "execution_count": null,
      "metadata": {
        "id": "dWN4iFxhK_oR",
        "outputId": "4a3ee44d-7619-4c12-ec5f-78fcb2579d22"
      },
      "outputs": [
        {
          "name": "stdout",
          "output_type": "stream",
          "text": [
            "<keras.engine.input_layer.InputLayer object at 0x0000023D479E47C0> False\n",
            "<keras.layers.preprocessing.image_preprocessing.Rescaling object at 0x0000023D479E4940> False\n",
            "<keras.layers.convolutional.conv2d.Conv2D object at 0x0000023D43603F10> False\n",
            "<keras.layers.normalization.batch_normalization.BatchNormalization object at 0x0000023D435A9FA0> False\n",
            "<keras.layers.core.tf_op_layer.TFOpLambda object at 0x0000023D3BEED9D0> False\n",
            "<keras.layers.activation.relu.ReLU object at 0x0000023D438F5E20> False\n",
            "<keras.layers.core.tf_op_layer.TFOpLambda object at 0x0000023D3BD46070> False\n",
            "<keras.layers.merging.multiply.Multiply object at 0x0000023D45C60D00> False\n",
            "<keras.layers.convolutional.depthwise_conv2d.DepthwiseConv2D object at 0x0000023D47A0F640> False\n",
            "<keras.layers.normalization.batch_normalization.BatchNormalization object at 0x0000023D47A05D60> False\n",
            "<keras.layers.activation.relu.ReLU object at 0x0000023D3C044C40> False\n",
            "<keras.layers.convolutional.conv2d.Conv2D object at 0x0000023D3BD32280> False\n",
            "<keras.layers.normalization.batch_normalization.BatchNormalization object at 0x0000023D3BD32100> False\n",
            "<keras.layers.merging.add.Add object at 0x0000023D3BD56A30> False\n",
            "<keras.layers.convolutional.conv2d.Conv2D object at 0x0000023D3C507670> False\n",
            "<keras.layers.normalization.batch_normalization.BatchNormalization object at 0x0000023D63331370> False\n",
            "<keras.layers.activation.relu.ReLU object at 0x0000023D3C510C70> False\n",
            "<keras.layers.reshaping.zero_padding2d.ZeroPadding2D object at 0x0000023D633E26A0> False\n",
            "<keras.layers.convolutional.depthwise_conv2d.DepthwiseConv2D object at 0x0000023D633E2250> False\n",
            "<keras.layers.normalization.batch_normalization.BatchNormalization object at 0x0000023D3C5076A0> False\n",
            "<keras.layers.activation.relu.ReLU object at 0x0000023D633E6EE0> False\n",
            "<keras.layers.convolutional.conv2d.Conv2D object at 0x0000023D633EE970> False\n",
            "<keras.layers.normalization.batch_normalization.BatchNormalization object at 0x0000023D3C072130> False\n",
            "<keras.layers.convolutional.conv2d.Conv2D object at 0x0000023D3C072070> False\n",
            "<keras.layers.normalization.batch_normalization.BatchNormalization object at 0x0000023D3C072340> False\n",
            "<keras.layers.activation.relu.ReLU object at 0x0000023D3C0723A0> False\n",
            "<keras.layers.convolutional.depthwise_conv2d.DepthwiseConv2D object at 0x0000023D633EE7C0> False\n",
            "<keras.layers.normalization.batch_normalization.BatchNormalization object at 0x0000023D3BDE5CD0> False\n",
            "<keras.layers.activation.relu.ReLU object at 0x0000023D3C51D850> False\n",
            "<keras.layers.convolutional.conv2d.Conv2D object at 0x0000023D633B5490> False\n",
            "<keras.layers.normalization.batch_normalization.BatchNormalization object at 0x0000023D3C51D9D0> False\n",
            "<keras.layers.merging.add.Add object at 0x0000023D3BF15910> False\n",
            "<keras.layers.convolutional.conv2d.Conv2D object at 0x0000023D3C097580> False\n",
            "<keras.layers.normalization.batch_normalization.BatchNormalization object at 0x0000023D3C507E20> False\n",
            "<keras.layers.activation.relu.ReLU object at 0x0000023D47A90190> False\n",
            "<keras.layers.reshaping.zero_padding2d.ZeroPadding2D object at 0x0000023D633D0E20> False\n",
            "<keras.layers.convolutional.depthwise_conv2d.DepthwiseConv2D object at 0x0000023D3C097DF0> False\n",
            "<keras.layers.normalization.batch_normalization.BatchNormalization object at 0x0000023D3C086D00> False\n",
            "<keras.layers.activation.relu.ReLU object at 0x0000023D633E2430> False\n",
            "<keras.layers.pooling.global_average_pooling2d.GlobalAveragePooling2D object at 0x0000023D3C41BDF0> False\n",
            "<keras.layers.convolutional.conv2d.Conv2D object at 0x0000023D3C3EF820> False\n",
            "<keras.layers.activation.relu.ReLU object at 0x0000023D3C3EFC40> False\n",
            "<keras.layers.convolutional.conv2d.Conv2D object at 0x0000023D3C3F32B0> False\n",
            "<keras.layers.core.tf_op_layer.TFOpLambda object at 0x0000023D3C09BE50> False\n",
            "<keras.layers.activation.relu.ReLU object at 0x0000023D39D0DCA0> False\n",
            "<keras.layers.core.tf_op_layer.TFOpLambda object at 0x0000023D3C09B100> False\n",
            "<keras.layers.merging.multiply.Multiply object at 0x0000023D3C06A190> False\n",
            "<keras.layers.convolutional.conv2d.Conv2D object at 0x0000023D5AB20EB0> False\n",
            "<keras.layers.normalization.batch_normalization.BatchNormalization object at 0x0000023D3C087790> False\n",
            "<keras.layers.convolutional.conv2d.Conv2D object at 0x0000023D479F8CD0> False\n",
            "<keras.layers.normalization.batch_normalization.BatchNormalization object at 0x0000023D46EEA0D0> False\n",
            "<keras.layers.activation.relu.ReLU object at 0x0000023D3BEED5E0> False\n",
            "<keras.layers.convolutional.depthwise_conv2d.DepthwiseConv2D object at 0x0000023D633EEFA0> False\n",
            "<keras.layers.normalization.batch_normalization.BatchNormalization object at 0x0000023D3C06A430> False\n",
            "<keras.layers.activation.relu.ReLU object at 0x0000023D47965C10> False\n",
            "<keras.layers.pooling.global_average_pooling2d.GlobalAveragePooling2D object at 0x0000023D633E6670> False\n",
            "<keras.layers.convolutional.conv2d.Conv2D object at 0x0000023D3C397C70> False\n",
            "<keras.layers.activation.relu.ReLU object at 0x0000023D3C086D90> False\n",
            "<keras.layers.convolutional.conv2d.Conv2D object at 0x0000023D3C37CE80> False\n",
            "<keras.layers.core.tf_op_layer.TFOpLambda object at 0x0000023D46F6D610> False\n",
            "<keras.layers.activation.relu.ReLU object at 0x0000023D46F6DEB0> False\n",
            "<keras.layers.core.tf_op_layer.TFOpLambda object at 0x0000023D46F6DD00> False\n",
            "<keras.layers.merging.multiply.Multiply object at 0x0000023D46F6DD90> False\n",
            "<keras.layers.convolutional.conv2d.Conv2D object at 0x0000023D3C37F670> False\n",
            "<keras.layers.normalization.batch_normalization.BatchNormalization object at 0x0000023D3C37F130> False\n",
            "<keras.layers.merging.add.Add object at 0x0000023D3C37FC10> False\n",
            "<keras.layers.convolutional.conv2d.Conv2D object at 0x0000023D3C3793A0> False\n",
            "<keras.layers.normalization.batch_normalization.BatchNormalization object at 0x0000023D3C397A90> False\n",
            "<keras.layers.activation.relu.ReLU object at 0x0000023D3C41F3A0> False\n",
            "<keras.layers.convolutional.depthwise_conv2d.DepthwiseConv2D object at 0x0000023D478A3100> False\n",
            "<keras.layers.normalization.batch_normalization.BatchNormalization object at 0x0000023D3C379D60> False\n",
            "<keras.layers.activation.relu.ReLU object at 0x0000023D3BDE68B0> False\n",
            "<keras.layers.pooling.global_average_pooling2d.GlobalAveragePooling2D object at 0x0000023D3C068880> False\n",
            "<keras.layers.convolutional.conv2d.Conv2D object at 0x0000023D3C068AF0> False\n",
            "<keras.layers.activation.relu.ReLU object at 0x0000023D3C3EFC10> False\n",
            "<keras.layers.convolutional.conv2d.Conv2D object at 0x0000023D3C418520> False\n",
            "<keras.layers.core.tf_op_layer.TFOpLambda object at 0x0000023D3C110A30> False\n",
            "<keras.layers.activation.relu.ReLU object at 0x0000023D633E6D90> False\n",
            "<keras.layers.core.tf_op_layer.TFOpLambda object at 0x0000023D3C1131C0> False\n",
            "<keras.layers.merging.multiply.Multiply object at 0x0000023D633E63A0> False\n",
            "<keras.layers.convolutional.conv2d.Conv2D object at 0x0000023D3C37F940> False\n",
            "<keras.layers.normalization.batch_normalization.BatchNormalization object at 0x0000023D3C0FC460> False\n",
            "<keras.layers.merging.add.Add object at 0x0000023D3C0FC6A0> False\n",
            "<keras.layers.convolutional.conv2d.Conv2D object at 0x0000023D3C0F5310> False\n",
            "<keras.layers.normalization.batch_normalization.BatchNormalization object at 0x0000023D3C0FC700> False\n",
            "<keras.layers.core.tf_op_layer.TFOpLambda object at 0x0000023D3C3F38E0> False\n",
            "<keras.layers.activation.relu.ReLU object at 0x0000023D46F89EE0> False\n",
            "<keras.layers.core.tf_op_layer.TFOpLambda object at 0x0000023D3C3F30A0> False\n",
            "<keras.layers.merging.multiply.Multiply object at 0x0000023D3C0FC160> False\n",
            "<keras.layers.reshaping.zero_padding2d.ZeroPadding2D object at 0x0000023D3C0EF370> False\n",
            "<keras.layers.convolutional.depthwise_conv2d.DepthwiseConv2D object at 0x0000023D3BDF8730> False\n",
            "<keras.layers.normalization.batch_normalization.BatchNormalization object at 0x0000023D633D0DF0> False\n",
            "<keras.layers.core.tf_op_layer.TFOpLambda object at 0x0000023D3BDE53D0> False\n",
            "<keras.layers.activation.relu.ReLU object at 0x0000023D633E3460> False\n",
            "<keras.layers.core.tf_op_layer.TFOpLambda object at 0x0000023D3C0655B0> False\n",
            "<keras.layers.merging.multiply.Multiply object at 0x0000023D3C4E93D0> False\n",
            "<keras.layers.convolutional.conv2d.Conv2D object at 0x0000023D47A16F40> False\n",
            "<keras.layers.normalization.batch_normalization.BatchNormalization object at 0x0000023D46F6DAC0> False\n",
            "<keras.layers.convolutional.conv2d.Conv2D object at 0x0000023D3C110E80> False\n",
            "<keras.layers.normalization.batch_normalization.BatchNormalization object at 0x0000023D3C105A90> False\n",
            "<keras.layers.core.tf_op_layer.TFOpLambda object at 0x0000023D3BCE68E0> False\n",
            "<keras.layers.activation.relu.ReLU object at 0x0000023D3BD18250> False\n",
            "<keras.layers.core.tf_op_layer.TFOpLambda object at 0x0000023D3BF2AAC0> False\n",
            "<keras.layers.merging.multiply.Multiply object at 0x0000023D3BD09B80> False\n",
            "<keras.layers.convolutional.depthwise_conv2d.DepthwiseConv2D object at 0x0000023D3BF40220> False\n",
            "<keras.layers.normalization.batch_normalization.BatchNormalization object at 0x0000023D3BF2ABB0> False\n",
            "<keras.layers.core.tf_op_layer.TFOpLambda object at 0x0000023D3BF40910> False\n",
            "<keras.layers.activation.relu.ReLU object at 0x0000023D3BCEF070> False\n",
            "<keras.layers.core.tf_op_layer.TFOpLambda object at 0x0000023D3C105EB0> False\n",
            "<keras.layers.merging.multiply.Multiply object at 0x0000023D3BF2A4C0> False\n",
            "<keras.layers.convolutional.conv2d.Conv2D object at 0x0000023D3BCEF400> False\n",
            "<keras.layers.normalization.batch_normalization.BatchNormalization object at 0x0000023D633E27C0> False\n",
            "<keras.layers.merging.add.Add object at 0x0000023D3C398070> False\n",
            "<keras.layers.convolutional.conv2d.Conv2D object at 0x0000023D3BDE6DF0> False\n",
            "<keras.layers.normalization.batch_normalization.BatchNormalization object at 0x0000023D3BDE50D0> False\n",
            "<keras.layers.core.tf_op_layer.TFOpLambda object at 0x0000023D3C1107C0> False\n",
            "<keras.layers.activation.relu.ReLU object at 0x0000023D46F96310> False\n",
            "<keras.layers.core.tf_op_layer.TFOpLambda object at 0x0000023D3C113160> False\n",
            "<keras.layers.merging.multiply.Multiply object at 0x0000023D3C4E9CD0> False\n",
            "<keras.layers.convolutional.depthwise_conv2d.DepthwiseConv2D object at 0x0000023D3C0EFB20> False\n",
            "<keras.layers.normalization.batch_normalization.BatchNormalization object at 0x0000023D3C0FC8E0> False\n",
            "<keras.layers.core.tf_op_layer.TFOpLambda object at 0x0000023D3BF29DC0> False\n",
            "<keras.layers.activation.relu.ReLU object at 0x0000023D3C09B7F0> False\n",
            "<keras.layers.core.tf_op_layer.TFOpLambda object at 0x0000023D3BF293D0> False\n",
            "<keras.layers.merging.multiply.Multiply object at 0x0000023D3BF26820> False\n",
            "<keras.layers.convolutional.conv2d.Conv2D object at 0x0000023D3BFB00D0> False\n",
            "<keras.layers.normalization.batch_normalization.BatchNormalization object at 0x0000023D3BFB03D0> False\n",
            "<keras.layers.merging.add.Add object at 0x0000023D3BFD1F10> False\n",
            "<keras.layers.convolutional.conv2d.Conv2D object at 0x0000023D3BFD1640> False\n",
            "<keras.layers.normalization.batch_normalization.BatchNormalization object at 0x0000023D3BFBA430> False\n",
            "<keras.layers.core.tf_op_layer.TFOpLambda object at 0x0000023D3BF5B6D0> False\n",
            "<keras.layers.activation.relu.ReLU object at 0x0000023D3C110820> False\n",
            "<keras.layers.core.tf_op_layer.TFOpLambda object at 0x0000023D3BFBA730> False\n",
            "<keras.layers.merging.multiply.Multiply object at 0x0000023D3BFD12B0> False\n",
            "<keras.layers.convolutional.depthwise_conv2d.DepthwiseConv2D object at 0x0000023D3C0FC2E0> False\n",
            "<keras.layers.normalization.batch_normalization.BatchNormalization object at 0x0000023D3BFBAFA0> False\n",
            "<keras.layers.core.tf_op_layer.TFOpLambda object at 0x0000023D3C37F850> False\n",
            "<keras.layers.activation.relu.ReLU object at 0x0000023D3BFBACD0> False\n",
            "<keras.layers.core.tf_op_layer.TFOpLambda object at 0x0000023D3BD0F460> False\n",
            "<keras.layers.merging.multiply.Multiply object at 0x0000023D3C0684C0> False\n",
            "<keras.layers.convolutional.conv2d.Conv2D object at 0x0000023D633D0C40> False\n",
            "<keras.layers.normalization.batch_normalization.BatchNormalization object at 0x0000023D3BF42B80> False\n",
            "<keras.layers.merging.add.Add object at 0x0000023D3BCE84C0> False\n",
            "<keras.layers.convolutional.conv2d.Conv2D object at 0x0000023D3BFCC130> False\n",
            "<keras.layers.normalization.batch_normalization.BatchNormalization object at 0x0000023D3BB533A0> False\n",
            "<keras.layers.core.tf_op_layer.TFOpLambda object at 0x0000023D3BF68E50> False\n",
            "<keras.layers.activation.relu.ReLU object at 0x0000023D3BF68100> False\n",
            "<keras.layers.core.tf_op_layer.TFOpLambda object at 0x0000023D3BF684F0> False\n",
            "<keras.layers.merging.multiply.Multiply object at 0x0000023D3BB4CB80> False\n",
            "<keras.layers.convolutional.depthwise_conv2d.DepthwiseConv2D object at 0x0000023D3BB60CA0> False\n",
            "<keras.layers.normalization.batch_normalization.BatchNormalization object at 0x0000023D3BF687C0> False\n",
            "<keras.layers.core.tf_op_layer.TFOpLambda object at 0x0000023D3BB65610> False\n",
            "<keras.layers.activation.relu.ReLU object at 0x0000023D3BB608B0> False\n",
            "<keras.layers.core.tf_op_layer.TFOpLambda object at 0x0000023D3BB65460> False\n",
            "<keras.layers.merging.multiply.Multiply object at 0x0000023D3BB4CC70> False\n",
            "<keras.layers.pooling.global_average_pooling2d.GlobalAveragePooling2D object at 0x0000023D3BB38700> False\n",
            "<keras.layers.convolutional.conv2d.Conv2D object at 0x0000023D3C5073A0> False\n",
            "<keras.layers.activation.relu.ReLU object at 0x0000023D479F8250> False\n",
            "<keras.layers.convolutional.conv2d.Conv2D object at 0x0000023D3BCE64C0> False\n",
            "<keras.layers.core.tf_op_layer.TFOpLambda object at 0x0000023D3BFB7190> False\n",
            "<keras.layers.activation.relu.ReLU object at 0x0000023D3BDE6FD0> False\n",
            "<keras.layers.core.tf_op_layer.TFOpLambda object at 0x0000023D3BFBA490> False\n",
            "<keras.layers.merging.multiply.Multiply object at 0x0000023D3BFB0730> False\n",
            "<keras.layers.convolutional.conv2d.Conv2D object at 0x0000023D3BCEFF10> False\n",
            "<keras.layers.normalization.batch_normalization.BatchNormalization object at 0x0000023D3BF95F70> False\n",
            "<keras.layers.convolutional.conv2d.Conv2D object at 0x0000023D3BD0FE80> False\n",
            "<keras.layers.normalization.batch_normalization.BatchNormalization object at 0x0000023D3BF8DC10> False\n",
            "<keras.layers.core.tf_op_layer.TFOpLambda object at 0x0000023D3BB78D60> False\n",
            "<keras.layers.activation.relu.ReLU object at 0x0000023D3BB74370> False\n",
            "<keras.layers.core.tf_op_layer.TFOpLambda object at 0x0000023D3BB78D30> False\n",
            "<keras.layers.merging.multiply.Multiply object at 0x0000023D3BB74AF0> False\n",
            "<keras.layers.convolutional.depthwise_conv2d.DepthwiseConv2D object at 0x0000023D3BB757C0> False\n",
            "<keras.layers.normalization.batch_normalization.BatchNormalization object at 0x0000023D3BF88AF0> False\n",
            "<keras.layers.core.tf_op_layer.TFOpLambda object at 0x0000023D3BB782B0> False\n",
            "<keras.layers.activation.relu.ReLU object at 0x0000023D3BF847C0> False\n",
            "<keras.layers.core.tf_op_layer.TFOpLambda object at 0x0000023D3BF8D760> False\n",
            "<keras.layers.merging.multiply.Multiply object at 0x0000023D3BF78C70> False\n",
            "<keras.layers.pooling.global_average_pooling2d.GlobalAveragePooling2D object at 0x0000023D3BBA7790> False\n",
            "<keras.layers.convolutional.conv2d.Conv2D object at 0x0000023D46F96C10> False\n",
            "<keras.layers.activation.relu.ReLU object at 0x0000023D633E3CD0> False\n",
            "<keras.layers.convolutional.conv2d.Conv2D object at 0x0000023D633D09A0> False\n",
            "<keras.layers.core.tf_op_layer.TFOpLambda object at 0x0000023D3BFCCA30> False\n",
            "<keras.layers.activation.relu.ReLU object at 0x0000023D633D06A0> False\n",
            "<keras.layers.core.tf_op_layer.TFOpLambda object at 0x0000023D3BB65430> False\n",
            "<keras.layers.merging.multiply.Multiply object at 0x0000023D3BF68880> False\n",
            "<keras.layers.convolutional.conv2d.Conv2D object at 0x0000023D3BBA2FA0> False\n",
            "<keras.layers.normalization.batch_normalization.BatchNormalization object at 0x0000023D3BF84820> False\n",
            "<keras.layers.merging.add.Add object at 0x0000023D3BB7A400> False\n",
            "<keras.layers.convolutional.conv2d.Conv2D object at 0x0000023D3BD181C0> False\n",
            "<keras.layers.normalization.batch_normalization.BatchNormalization object at 0x0000023D45E8BE20> False\n",
            "<keras.layers.core.tf_op_layer.TFOpLambda object at 0x0000023D45E60130> False\n",
            "<keras.layers.activation.relu.ReLU object at 0x0000023D45E60550> False\n",
            "<keras.layers.core.tf_op_layer.TFOpLambda object at 0x0000023D45E7DB80> False\n",
            "<keras.layers.merging.multiply.Multiply object at 0x0000023D45E595B0> False\n",
            "<keras.layers.reshaping.zero_padding2d.ZeroPadding2D object at 0x0000023D45E59FA0> False\n",
            "<keras.layers.convolutional.depthwise_conv2d.DepthwiseConv2D object at 0x0000023D3BB88F40> False\n",
            "<keras.layers.normalization.batch_normalization.BatchNormalization object at 0x0000023D3BB882E0> False\n",
            "<keras.layers.core.tf_op_layer.TFOpLambda object at 0x0000023D3BBA2A60> False\n",
            "<keras.layers.activation.relu.ReLU object at 0x0000023D45E7D5B0> False\n",
            "<keras.layers.core.tf_op_layer.TFOpLambda object at 0x0000023D45E60220> False\n",
            "<keras.layers.merging.multiply.Multiply object at 0x0000023D45E70CD0> False\n",
            "<keras.layers.pooling.global_average_pooling2d.GlobalAveragePooling2D object at 0x0000023D45E741F0> False\n",
            "<keras.layers.convolutional.conv2d.Conv2D object at 0x0000023D3BF58E20> False\n",
            "<keras.layers.activation.relu.ReLU object at 0x0000023D46F96730> False\n",
            "<keras.layers.convolutional.conv2d.Conv2D object at 0x0000023D3BF26910> False\n",
            "<keras.layers.core.tf_op_layer.TFOpLambda object at 0x0000023D3BF8D310> False\n",
            "<keras.layers.activation.relu.ReLU object at 0x0000023D3BF266D0> False\n",
            "<keras.layers.core.tf_op_layer.TFOpLambda object at 0x0000023D46ED3280> False\n",
            "<keras.layers.merging.multiply.Multiply object at 0x0000023D3BF95850> False\n",
            "<keras.layers.convolutional.conv2d.Conv2D object at 0x0000023D3BF808E0> False\n",
            "<keras.layers.normalization.batch_normalization.BatchNormalization object at 0x0000023D3BF80BE0> False\n",
            "<keras.layers.convolutional.conv2d.Conv2D object at 0x0000023D46ECA490> False\n",
            "<keras.layers.normalization.batch_normalization.BatchNormalization object at 0x0000023D46ED7700> False\n",
            "<keras.layers.core.tf_op_layer.TFOpLambda object at 0x0000023D3C48F6A0> False\n",
            "<keras.layers.activation.relu.ReLU object at 0x0000023D3C468D00> False\n",
            "<keras.layers.core.tf_op_layer.TFOpLambda object at 0x0000023D3C48B670> False\n",
            "<keras.layers.merging.multiply.Multiply object at 0x0000023D3C468AF0> False\n",
            "<keras.layers.convolutional.depthwise_conv2d.DepthwiseConv2D object at 0x0000023D3C468DF0> False\n",
            "<keras.layers.normalization.batch_normalization.BatchNormalization object at 0x0000023D3C48FB80> False\n",
            "<keras.layers.core.tf_op_layer.TFOpLambda object at 0x0000023D3BF80400> False\n",
            "<keras.layers.activation.relu.ReLU object at 0x0000023D46EAAF40> False\n",
            "<keras.layers.core.tf_op_layer.TFOpLambda object at 0x0000023D479F8640> False\n",
            "<keras.layers.merging.multiply.Multiply object at 0x0000023D3C4680D0> False\n",
            "<keras.layers.pooling.global_average_pooling2d.GlobalAveragePooling2D object at 0x0000023D46EAF160> False\n",
            "<keras.layers.convolutional.conv2d.Conv2D object at 0x0000023D3BB65970> False\n",
            "<keras.layers.activation.relu.ReLU object at 0x0000023D3BB60C10> False\n",
            "<keras.layers.convolutional.conv2d.Conv2D object at 0x0000023D46EAF400> False\n",
            "<keras.layers.core.tf_op_layer.TFOpLambda object at 0x0000023D45E70D30> False\n",
            "<keras.layers.activation.relu.ReLU object at 0x0000023D46F96FD0> False\n",
            "<keras.layers.core.tf_op_layer.TFOpLambda object at 0x0000023D3C4761F0> False\n",
            "<keras.layers.merging.multiply.Multiply object at 0x0000023D3BB38580> False\n",
            "<keras.layers.convolutional.conv2d.Conv2D object at 0x0000023D3BF80610> False\n",
            "<keras.layers.normalization.batch_normalization.BatchNormalization object at 0x0000023D47AF7760> False\n",
            "<keras.layers.merging.add.Add object at 0x0000023D3BF84940> False\n",
            "<keras.layers.convolutional.conv2d.Conv2D object at 0x0000023D3C492550> False\n",
            "<keras.layers.normalization.batch_normalization.BatchNormalization object at 0x0000023D47AF72B0> False\n",
            "<keras.layers.core.tf_op_layer.TFOpLambda object at 0x0000023D47AC7EB0> False\n",
            "<keras.layers.activation.relu.ReLU object at 0x0000023D47AC7AF0> False\n",
            "<keras.layers.core.tf_op_layer.TFOpLambda object at 0x0000023D47AED280> False\n",
            "<keras.layers.merging.multiply.Multiply object at 0x0000023D47AD5190> False\n",
            "<keras.layers.convolutional.depthwise_conv2d.DepthwiseConv2D object at 0x0000023D45E74F10> False\n",
            "<keras.layers.normalization.batch_normalization.BatchNormalization object at 0x0000023D45E7DAC0> False\n",
            "<keras.layers.core.tf_op_layer.TFOpLambda object at 0x0000023D45E8BAC0> False\n",
            "<keras.layers.activation.relu.ReLU object at 0x0000023D3C3625B0> False\n",
            "<keras.layers.core.tf_op_layer.TFOpLambda object at 0x0000023D3BB650A0> False\n",
            "<keras.layers.merging.multiply.Multiply object at 0x0000023D45E60DC0> False\n",
            "<keras.layers.pooling.global_average_pooling2d.GlobalAveragePooling2D object at 0x0000023D47AEDCA0> False\n",
            "<keras.layers.convolutional.conv2d.Conv2D object at 0x0000023D3BF58070> False\n",
            "<keras.layers.activation.relu.ReLU object at 0x0000023D3C068C70> False\n",
            "<keras.layers.convolutional.conv2d.Conv2D object at 0x0000023D3BFCCE50> False\n",
            "<keras.layers.core.tf_op_layer.TFOpLambda object at 0x0000023D46ED7280> False\n",
            "<keras.layers.activation.relu.ReLU object at 0x0000023D3BFCC160> False\n",
            "<keras.layers.core.tf_op_layer.TFOpLambda object at 0x0000023D3C227B80> False\n",
            "<keras.layers.merging.multiply.Multiply object at 0x0000023D3C476160> False\n",
            "<keras.layers.convolutional.conv2d.Conv2D object at 0x0000023D3BB657C0> False\n",
            "<keras.layers.normalization.batch_normalization.BatchNormalization object at 0x0000023D3C105F70> False\n",
            "<keras.layers.merging.add.Add object at 0x0000023D3BFCC190> False\n",
            "<keras.layers.convolutional.conv2d.Conv2D object at 0x0000023D3C252DC0> False\n",
            "<keras.layers.normalization.batch_normalization.BatchNormalization object at 0x0000023D3BD32070> False\n",
            "<keras.layers.core.tf_op_layer.TFOpLambda object at 0x0000023D3C4531F0> False\n",
            "<keras.layers.activation.relu.ReLU object at 0x0000023D3C448DC0> False\n",
            "<keras.layers.core.tf_op_layer.TFOpLambda object at 0x0000023D3C221AC0> False\n",
            "<keras.layers.merging.multiply.Multiply object at 0x0000023D3C448520> False\n"
          ]
        }
      ],
      "source": [
        "for layer in model.layers[:-14]:\n",
        "    layer.trainable = False\n",
        " # Check the trainable status of the individual layers\n",
        "for layer in model.layers:\n",
        "    print(layer, layer.trainable)"
      ]
    },
    {
      "cell_type": "code",
      "execution_count": null,
      "metadata": {
        "id": "RRkqgCBXK_oR"
      },
      "outputs": [],
      "source": [
        "def get_compiled_model():\n",
        "    # Create the model\n",
        "    model_1 = models.Sequential()\n",
        "    # Add the vgg convolutional base model\n",
        "    model_1.add(model)\n",
        "\n",
        "    # Add new layers\n",
        "    model_1.add(tf.keras.layers.Flatten())\n",
        "    model_1.add(tf.keras.layers.Dense(256, activation='relu'))   \n",
        "    model_1.add(tf.keras.layers.Dropout(0.2))\n",
        "    model_1.add(tf.keras.layers.Dense(9, activation='softmax'))\n",
        "    \n",
        "    model_1.compile(optimizer= 'adam',\n",
        "              loss = tf.keras.losses.CategoricalCrossentropy(),\n",
        "              metrics = ['categorical_accuracy'])\n",
        "    \n",
        "    return model_1"
      ]
    },
    {
      "cell_type": "code",
      "execution_count": null,
      "metadata": {
        "id": "yiFcewa1K_oS",
        "outputId": "8cdaf5e0-d0fc-47a7-b8bc-0bd2d52453be"
      },
      "outputs": [
        {
          "name": "stdout",
          "output_type": "stream",
          "text": [
            "Model: \"sequential_10\"\n",
            "_________________________________________________________________\n",
            " Layer (type)                Output Shape              Param #   \n",
            "=================================================================\n",
            " MobilenetV3large (Functiona  (None, 7, 7, 960)        2996352   \n",
            " l)                                                              \n",
            "                                                                 \n",
            " flatten_10 (Flatten)        (None, 47040)             0         \n",
            "                                                                 \n",
            " dense_20 (Dense)            (None, 256)               12042496  \n",
            "                                                                 \n",
            " dropout_6 (Dropout)         (None, 256)               0         \n",
            "                                                                 \n",
            " dense_21 (Dense)            (None, 9)                 2313      \n",
            "                                                                 \n",
            "=================================================================\n",
            "Total params: 15,041,161\n",
            "Trainable params: 12,044,809\n",
            "Non-trainable params: 2,996,352\n",
            "_________________________________________________________________\n"
          ]
        }
      ],
      "source": [
        "model_1=get_compiled_model()\n",
        "model_1.summary()"
      ]
    },
    {
      "cell_type": "code",
      "execution_count": null,
      "metadata": {
        "id": "MUONxJjiK_oU"
      },
      "outputs": [],
      "source": [
        "model_checkpoint_callback = tf.keras.callbacks.ModelCheckpoint(\n",
        "               filepath = 'model_mobilenet_augm.h5', \n",
        "               monitor = 'val_categorical_accuracy', \n",
        "               save_best_only = True,)"
      ]
    },
    {
      "cell_type": "code",
      "source": [
        "early_stopping_callback = tf.keras.callbacks.EarlyStopping(\n",
        "                monitor=\"val_categorical_accuracy\",\n",
        "                min_delta=0.01,\n",
        "                patience=5,\n",
        "                verbose=1,\n",
        "                mode=\"max\",\n",
        "                baseline=None,\n",
        "                restore_best_weights=False,\n",
        "                start_from_epoch=0,\n",
        ")"
      ],
      "metadata": {
        "id": "Xf7lHhDsOJ9q"
      },
      "execution_count": null,
      "outputs": []
    },
    {
      "cell_type": "code",
      "execution_count": null,
      "metadata": {
        "id": "62URSLytK_oV",
        "scrolled": false
      },
      "outputs": [],
      "source": [
        "%%time\n",
        "history = model_1.fit( train_generator_1,\n",
        "                      steps_per_epoch=200,\n",
        "                      epochs = 50,\n",
        "                      validation_data = test_generator_1,\n",
        "                      validation_steps = 20,\n",
        "                      callbacks = [PlotLossesCallback(), \n",
        "                                   model_checkpoint_callback, \n",
        "                                   early_stopping_callback\n",
        "                                   ],\n",
        "                      class_weight=class_weight)"
      ]
    },
    {
      "cell_type": "markdown",
      "metadata": {
        "id": "BbSN5yN7OuoJ"
      },
      "source": [
        "### Inference"
      ]
    },
    {
      "cell_type": "code",
      "execution_count": null,
      "metadata": {
        "id": "bNgcEZm61JIx"
      },
      "outputs": [],
      "source": [
        "def show_pred(images, labels, predicted_labels=None):\n",
        "    plt.figure(figsize=(15,15))\n",
        "    for i in range(16):\n",
        "        plt.subplot(4,4, i+1)\n",
        "        plt.xticks([])\n",
        "        plt.yticks([])\n",
        "        plt.grid(False)\n",
        "        img = image.load_img(images[i])\n",
        "        plt.imshow(img)\n",
        "        if predicted_labels is not None:\n",
        "            title_obj = plt.title(f\"Real: {labels[i]}. Pred: {predicted_labels[i]}\")\n",
        "            if labels[i] != predicted_labels[i]:\n",
        "                plt.setp(title_obj, color='r')\n",
        "        else:\n",
        "            plt.title(f\"Real label: {labels[i]}\")"
      ]
    },
    {
      "cell_type": "code",
      "execution_count": null,
      "metadata": {
        "id": "X7mjbL1P1L_3"
      },
      "outputs": [],
      "source": [
        "idxs = np.random.choice(np.arange(len(test_generator.filenames)), 1, replace=False)\n",
        "fnames = []\n",
        "labels = []\n",
        "preds = []\n",
        "for i in idxs:\n",
        "    fnames.append('/content/drive/MyDrive/course_work_nn/train/' + test_generator_1.filenames[i])\n",
        "    labels.append(list(set(df['emotion']))[test_generator.labels[i]])\n",
        "    preds.append(list(set(df['emotion']))[np.argmax(predicted_labels[i])])\n",
        "show_pred(fnames, labels, preds)"
      ]
    },
    {
      "cell_type": "markdown",
      "metadata": {
        "id": "d5ojbmHEK_oY"
      },
      "source": [
        "### One photo inference"
      ]
    },
    {
      "cell_type": "code",
      "execution_count": null,
      "metadata": {
        "id": "c684yJp-K_oY"
      },
      "outputs": [],
      "source": [
        "def preprocess_img(img):\n",
        "    \"\"\"препроцессинг фото перед подачей в сеть\"\"\"\n",
        "    img = img.resize((128,128))\n",
        "    img = tf.keras.preprocessing.image.img_to_array(img)\n",
        "    img /= 255.\n",
        "    img = np.expand_dims(img, axis = 0)\n",
        "    return img"
      ]
    },
    {
      "cell_type": "code",
      "execution_count": null,
      "metadata": {
        "id": "5xfAAf-4K_oZ"
      },
      "outputs": [],
      "source": [
        "%%timeit -n 10 -r 10\n",
        "\n",
        "img = image.load_img('C:/Users/Admin/Documents/курсовая_нейронка_эмоции/test_kaggle/test_kaggle/1.jpg')\n",
        "img = preprocess_img(img)\n",
        "pred = model01.predict(img)"
      ]
    },
    {
      "cell_type": "markdown",
      "metadata": {
        "id": "T7YqmiVVO93U"
      },
      "source": [
        "### Generating a file for Kaggle"
      ]
    },
    {
      "cell_type": "code",
      "execution_count": null,
      "metadata": {
        "id": "iN0H6oiWPDhU"
      },
      "outputs": [],
      "source": [
        "shutil.rmtree('/content/drive/MyDrive/course_work_nn/test_kaggle')"
      ]
    },
    {
      "cell_type": "code",
      "execution_count": null,
      "metadata": {
        "id": "AaRgZhwUO76g"
      },
      "outputs": [],
      "source": [
        "!cd /content/drive/MyDrive/course_work_nn/ && unzip -q test_kaggle.zip"
      ]
    },
    {
      "cell_type": "code",
      "execution_count": null,
      "metadata": {
        "id": "2aD6AtinK_oa"
      },
      "outputs": [],
      "source": [
        "model01 = tf.keras.models.load_model('model_main3_imagenet_augm.h5')"
      ]
    },
    {
      "cell_type": "code",
      "execution_count": null,
      "metadata": {
        "id": "3x127llfK_oa"
      },
      "outputs": [],
      "source": [
        "emotions = ['anger', 'contempt', 'disgust', 'fear', 'happy', 'neutral', 'sad', 'surprise', 'uncertain']"
      ]
    },
    {
      "cell_type": "code",
      "execution_count": null,
      "metadata": {
        "id": "nJDBmhlCK_oa"
      },
      "outputs": [],
      "source": [
        "datagen = ImageDataGenerator(rescale = 1/255.)"
      ]
    },
    {
      "cell_type": "code",
      "execution_count": null,
      "metadata": {
        "id": "f9tLGJAoPBh4",
        "outputId": "438dded9-e757-4406-dce1-60462791dd8d"
      },
      "outputs": [
        {
          "name": "stdout",
          "output_type": "stream",
          "text": [
            "Found 5000 images belonging to 1 classes.\n"
          ]
        }
      ],
      "source": [
        "test_generator = datagen.flow_from_directory(directory = 'test_kaggle/test_kaggle/',\n",
        "                                       target_size=(224,224),\n",
        "                                       class_mode='categorical',\n",
        "                                       classes=['.'],\n",
        "                                       shuffle = False,\n",
        "                                       batch_size=1)"
      ]
    },
    {
      "cell_type": "code",
      "execution_count": null,
      "metadata": {
        "id": "WSK9XoLAPH0R",
        "outputId": "295dfcf1-f0ca-4350-ff10-c2af23b03f74"
      },
      "outputs": [
        {
          "name": "stderr",
          "output_type": "stream",
          "text": [
            "<ipython-input-26-53b1dc6b37e3>:3: UserWarning: `Model.predict_generator` is deprecated and will be removed in a future version. Please use `Model.predict`, which supports generators.\n",
            "  pred=model.predict_generator(test_generator,steps=STEP_SIZE_TEST,verbose=1)\n"
          ]
        },
        {
          "name": "stdout",
          "output_type": "stream",
          "text": [
            "5000/5000 [==============================] - 1717s 343ms/step\n"
          ]
        }
      ],
      "source": [
        "STEP_SIZE_TEST=test_generator.n//test_generator.batch_size\n",
        "test_generator.reset()\n",
        "pred=model.predict_generator(test_generator,steps=STEP_SIZE_TEST,verbose=1)\n",
        "\n",
        "predictions = []\n",
        "for i in pred:\n",
        "    predictions.append(emotions[np.argmax(i)])\n",
        "\n",
        "\n",
        "filenames = []\n",
        "for i in test_generator.filenames:\n",
        "    filn = i.replace(\".\\\\\",'')\n",
        "    filenames.append(filn)\n",
        "\n",
        "results=pd.DataFrame({\"image_path\":filenames,\n",
        "                      \"emotion\":predictions})"
      ]
    },
    {
      "cell_type": "code",
      "execution_count": null,
      "metadata": {
        "id": "z4qRUjMePJ9e"
      },
      "outputs": [],
      "source": [
        "results.to_csv('model_imagenet_augm.csv', index=False)"
      ]
    }
  ],
  "metadata": {
    "accelerator": "GPU",
    "colab": {
      "toc_visible": true,
      "provenance": [],
      "include_colab_link": true
    },
    "gpuClass": "standard",
    "kernelspec": {
      "display_name": "Python 3",
      "language": "python",
      "name": "python3"
    },
    "language_info": {
      "codemirror_mode": {
        "name": "ipython",
        "version": 3
      },
      "file_extension": ".py",
      "mimetype": "text/x-python",
      "name": "python",
      "nbconvert_exporter": "python",
      "pygments_lexer": "ipython3",
      "version": "3.8.8"
    },
    "toc": {
      "base_numbering": 1,
      "nav_menu": {},
      "number_sections": true,
      "sideBar": true,
      "skip_h1_title": false,
      "title_cell": "Table of Contents",
      "title_sidebar": "Contents",
      "toc_cell": false,
      "toc_position": {
        "height": "calc(100% - 180px)",
        "left": "10px",
        "top": "150px",
        "width": "279px"
      },
      "toc_section_display": true,
      "toc_window_display": true
    }
  },
  "nbformat": 4,
  "nbformat_minor": 0
}